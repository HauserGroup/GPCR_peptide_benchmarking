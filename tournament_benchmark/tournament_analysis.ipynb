{
 "cells": [
  {
   "cell_type": "code",
   "execution_count": 24,
   "metadata": {},
   "outputs": [],
   "source": [
    "# Analyse tournament results\n",
    "import os \n",
    "import sys\n",
    "import pandas as pd\n",
    "import requests\n",
    "import glob\n",
    "import json\n",
    "\n",
    "# Build the path to the pdb files\n",
    "file_dir = os.getcwd()\n",
    "folder_name = file_dir.split('/')[-1]\n",
    "repo_dir = file_dir.replace(f'/{folder_name}', '')\n",
    "plot_dir = f'{file_dir}/plots'\n",
    "pdb_dir = f\"{repo_dir}/tournament_benchmark/gpcr_tournament\"\n",
    "principal_agonists_df = pd.read_csv(f\"{repo_dir}/classifier_benchmark_data/output/6_interactions_with_decoys.csv\")\n",
    "principal_agonists_df = principal_agonists_df[principal_agonists_df[\"Decoy Type\"] == \"Principal Agonist\"]\n",
    "\n",
    "# Get the pdb files - list all pdb files in the pdb_dir directory and its subdirectories\n",
    "pdb_files = []\n",
    "for root, dirs, files in os.walk(pdb_dir):\n",
    "    for file in files:\n",
    "        if file.endswith(\".pdb\"):\n",
    "            pdb_files.append(os.path.join(root, file))\n",
    "\n",
    "# Use glob to find all matching files\n",
    "pattern = os.path.join(repo_dir, \"tournament_benchmark/gpcr_tournament/*/msas/chain_id_map.json\")\n",
    "matching_files = glob.glob(pattern)\n",
    "\n",
    "# Print the list of matching files\n",
    "for file_path in matching_files:\n",
    "\n",
    "    # Read the chain_id_map.json file\n",
    "    chain_id_map = json.load(open(file_path))\n",
    "    receptor = chain_id_map[\"A\"][\"description\"]\n",
    "    principal_agonist = principal_agonists_df[principal_agonists_df[\"Target ID\"] == receptor][\"Decoy ID\"].values[0]\n",
    "\n",
    "    ligand_chain = \"None\"\n",
    "    for key in chain_id_map:\n",
    "        if str(chain_id_map[key][\"description\"]) == str(principal_agonist):\n",
    "            ligand_chain = key\n",
    "    \n",
    "    # Set the column value in principal_agonists_df to the ligand chain\n",
    "    principal_agonists_df.loc[principal_agonists_df[\"Target ID\"] == receptor, \"Ligand Chain\"] = ligand_chain"
   ]
  },
  {
   "cell_type": "code",
   "execution_count": 30,
   "metadata": {},
   "outputs": [
    {
     "name": "stdout",
     "output_type": "stream",
     "text": [
      "['7x34', '7x38', '45x52', '3x32', '45x51', '6x55', '1x32', '4x61']\n"
     ]
    }
   ],
   "source": [
    "# Read in the chosen GRNs\n",
    "grn_path = f\"{repo_dir}/grn_analysis/chosen_grns.txt\"\n",
    "with open(grn_path) as f:\n",
    "    chosen_grns = f.readlines()\n",
    "    chosen_grns = [grn.strip() for grn in chosen_grns]"
   ]
  },
  {
   "cell_type": "code",
   "execution_count": 38,
   "metadata": {},
   "outputs": [
    {
     "name": "stdout",
     "output_type": "stream",
     "text": [
      "Processing /Users/pqh443/Documents/Git_projects/GPRC_peptide_benchmarking/tournament_benchmark/gpcr_tournament/ackr2_tournament/ackr2_tournament.pdb, 1/124\n"
     ]
    },
    {
     "name": "stderr",
     "output_type": "stream",
     "text": [
      "  % Total    % Received % Xferd  Average Speed   Time    Time     Time  Current\n",
      "                                 Dload  Upload   Total   Spent    Left  Speed\n",
      "100  410k    0     0  100  410k      0  71245  0:00:05  0:00:05 --:--:-- 55300"
     ]
    },
    {
     "name": "stdout",
     "output_type": "stream",
     "text": [
      "/Users/pqh443/Documents/Git_projects/GPRC_peptide_benchmarking/tournament_benchmark/gpcr_tournament/ackr2_tournament/ackr2_tournament.pdb - GRNs: ['1.24', '1.25', '1.27', '1.28', '1.35', '1.39', '2.57', '2.60', '2.61', '2.64', '3.28', '3.29', '3.30', '3.32', '3.33', '3.36', '3.37', '4.56', '4.57', '4.61', '4.65', '45.50', '45.51', '45.52', '5.32', '5.33', '5.36', '5.39', '5.40', '5.43', '6.51', '6.55', '6.58', '6.61', '6.62', '6.63', '6.64', '7.23', '7.24', '7.25', '7.27', '7.28', '7.30', '7.31', '7.32', '7.34', '7.35', '7.38', '7.42']\n",
      "Processing /Users/pqh443/Documents/Git_projects/GPRC_peptide_benchmarking/tournament_benchmark/gpcr_tournament/qrfpr_tournament/qrfpr_tournament.pdb, 2/124\n"
     ]
    },
    {
     "name": "stderr",
     "output_type": "stream",
     "text": [
      "100  821k  100  410k  100  410k  68396  68470  0:00:06  0:00:06 --:--:--  113k\n",
      "  % Total    % Received % Xferd  Average Speed   Time    Time     Time  Current\n",
      "                                 Dload  Upload   Total   Spent    Left  Speed\n",
      "100  477k    0     0  100  477k      0  86789  0:00:05  0:00:05 --:--:-- 67847"
     ]
    },
    {
     "name": "stdout",
     "output_type": "stream",
     "text": [
      "/Users/pqh443/Documents/Git_projects/GPRC_peptide_benchmarking/tournament_benchmark/gpcr_tournament/qrfpr_tournament/qrfpr_tournament.pdb - GRNs: ['-2.55', '-5.46', '2.56', '2.57', '2.59', '2.60', '2.61', '2.62', '2.63', '2.64', '2.65', '2.66', '2.67', '23.49', '23.50', '23.51', '3.24', '3.25', '3.26', '3.28', '3.29', '3.32', '3.33', '3.34', '3.36', '3.37', '4.60', '4.63', '4.64', '45.50', '45.51', '45.52', '5.35', '5.36', '5.37', '5.39', '5.40', '5.41', '5.43', '6.48', '6.51', '6.52', '6.55', '6.59', '7.31', '7.34', '7.38', '7.42']\n",
      "Processing /Users/pqh443/Documents/Git_projects/GPRC_peptide_benchmarking/tournament_benchmark/gpcr_tournament/npy4r_tournament/npy4r_tournament.pdb, 3/124\n"
     ]
    },
    {
     "name": "stderr",
     "output_type": "stream",
     "text": [
      "100  954k  100  476k  100  477k  81511  81587  0:00:05  0:00:05 --:--:--  108k\n",
      "  % Total    % Received % Xferd  Average Speed   Time    Time     Time  Current\n",
      "                                 Dload  Upload   Total   Spent    Left  Speed\n",
      "100  615k  100  307k  100  307k  57888  57972  0:00:05  0:00:05 --:--:-- 91638\n"
     ]
    },
    {
     "name": "stdout",
     "output_type": "stream",
     "text": [
      "/Users/pqh443/Documents/Git_projects/GPRC_peptide_benchmarking/tournament_benchmark/gpcr_tournament/npy4r_tournament/npy4r_tournament.pdb - GRNs: ['-5.46', '2.53', '2.56', '2.57', '2.59', '2.60', '2.63', '2.64', '2.65', '2.66', '2.67', '23.49', '23.50', '3.28', '3.29', '3.32', '3.33', '3.34', '3.36', '3.37', '4.61', '4.64', '45.50', '45.51', '45.52', '5.33', '5.36', '5.37', '5.39', '5.40', '5.41', '5.43', '5.44', '6.48', '6.51', '6.52', '6.54', '6.55', '6.56', '6.58', '6.59', '7.27', '7.28', '7.29', '7.30', '7.31', '7.32', '7.33', '7.34', '7.35', '7.38', '7.42']\n",
      "Processing /Users/pqh443/Documents/Git_projects/GPRC_peptide_benchmarking/tournament_benchmark/gpcr_tournament/par4_tournament/par4_tournament.pdb, 4/124\n"
     ]
    },
    {
     "name": "stderr",
     "output_type": "stream",
     "text": [
      "  % Total    % Received % Xferd  Average Speed   Time    Time     Time  Current\n",
      "                                 Dload  Upload   Total   Spent    Left  Speed\n",
      "100  906k  100  452k  100  453k  71027  71097  0:00:06  0:00:06 --:--:--  113k\n"
     ]
    },
    {
     "name": "stdout",
     "output_type": "stream",
     "text": [
      "/Users/pqh443/Documents/Git_projects/GPRC_peptide_benchmarking/tournament_benchmark/gpcr_tournament/par4_tournament/par4_tournament.pdb - GRNs: ['1.59', '1.60', '6.31', '8.48', '8.49', '8.51', '8.52', '8.55', '8.56', '8.61']\n",
      "Processing /Users/pqh443/Documents/Git_projects/GPRC_peptide_benchmarking/tournament_benchmark/gpcr_tournament/ox1r_tournament/ox1r_tournament.pdb, 5/124\n"
     ]
    },
    {
     "name": "stderr",
     "output_type": "stream",
     "text": [
      "  % Total    % Received % Xferd  Average Speed   Time    Time     Time  Current\n",
      "                                 Dload  Upload   Total   Spent    Left  Speed\n",
      "100  638k  100  318k  100  319k  65567  65659  0:00:04  0:00:04 --:--:-- 92759\n"
     ]
    },
    {
     "name": "stdout",
     "output_type": "stream",
     "text": [
      "/Users/pqh443/Documents/Git_projects/GPRC_peptide_benchmarking/tournament_benchmark/gpcr_tournament/ox1r_tournament/ox1r_tournament.pdb - GRNs: ['-2.55', '2.53', '2.56', '2.57', '2.59', '2.60', '2.61', '2.63', '2.64', '2.67', '23.49', '23.50', '3.28', '3.29', '3.32', '4.61', '4.65', '45.50', '45.51', '45.52', '5.40', '6.51', '6.55', '6.58', '6.59', '7.27', '7.30', '7.31', '7.34', '7.35', '7.38', '7.42']\n",
      "Processing /Users/pqh443/Documents/Git_projects/GPRC_peptide_benchmarking/tournament_benchmark/gpcr_tournament/ccr1_tournament/ccr1_tournament.pdb, 6/124\n"
     ]
    },
    {
     "name": "stderr",
     "output_type": "stream",
     "text": [
      "  % Total    % Received % Xferd  Average Speed   Time    Time     Time  Current\n",
      "                                 Dload  Upload   Total   Spent    Left  Speed\n",
      "100  711k  100  355k  100  355k  74927  75021  0:00:04  0:00:04 --:--:--  102k\n"
     ]
    },
    {
     "name": "stdout",
     "output_type": "stream",
     "text": [
      "/Users/pqh443/Documents/Git_projects/GPRC_peptide_benchmarking/tournament_benchmark/gpcr_tournament/ccr1_tournament/ccr1_tournament.pdb - GRNs: ['1.24', '1.25', '1.27', '1.28', '1.35', '1.39', '2.53', '2.56', '2.57', '2.60', '2.61', '2.63', '2.64', '2.67', '23.49', '23.50', '3.25', '3.28', '3.29', '3.30', '3.32', '3.33', '3.37', '4.55', '4.56', '4.57', '4.59', '4.60', '4.61', '4.62', '4.63', '4.64', '4.65', '45.50', '45.51', '45.52', '5.31', '5.32', '5.33', '5.34', '5.35', '5.36', '5.37', '5.38', '5.39', '5.40', '5.41', '5.42', '5.43', '5.44', '6.51', '6.55', '6.56', '6.58', '6.59', '6.61', '6.62', '7.23', '7.24', '7.25', '7.27', '7.30', '7.31', '7.32', '7.34', '7.35', '7.38', '7.42']\n",
      "Processing /Users/pqh443/Documents/Git_projects/GPRC_peptide_benchmarking/tournament_benchmark/gpcr_tournament/cxcr6_tournament/cxcr6_tournament.pdb, 7/124\n"
     ]
    },
    {
     "name": "stderr",
     "output_type": "stream",
     "text": [
      "  % Total    % Received % Xferd  Average Speed   Time    Time     Time  Current\n",
      "                                 Dload  Upload   Total   Spent    Left  Speed\n",
      "100  995k  100  497k  100  498k   101k   101k  0:00:04  0:00:04 --:--:--  203k\n"
     ]
    },
    {
     "name": "stdout",
     "output_type": "stream",
     "text": [
      "/Users/pqh443/Documents/Git_projects/GPRC_peptide_benchmarking/tournament_benchmark/gpcr_tournament/cxcr6_tournament/cxcr6_tournament.pdb - GRNs: ['1.25', '1.27', '1.28', '1.31', '1.35', '1.39', '1.43', '1.44', '1.47', '1.48', '1.50', '1.51', '1.52', '1.54', '1.55', '1.58', '1.59', '1.60', '2.51', '2.52', '2.54', '2.55', '2.56', '2.57', '2.58', '2.59', '2.60', '2.61', '2.62', '2.63', '2.64', '2.65', '2.66', '23.50', '23.51', '23.52', '3.24', '3.29', '3.32', '45.50', '45.51', '45.52', '5.32', '5.33', '5.34', '5.36', '5.37', '5.40', '6.51', '6.55', '6.58', '6.59', '6.61', '7.23', '7.24', '7.25', '7.26', '7.27', '7.28', '7.30', '7.31', '7.32', '7.34', '7.35', '7.38', '7.42', '8.57', '8.59', '8.60', '8.61', '8.62']\n",
      "Processing /Users/pqh443/Documents/Git_projects/GPRC_peptide_benchmarking/tournament_benchmark/gpcr_tournament/ghsr_tournament/ghsr_tournament.pdb, 8/124\n"
     ]
    },
    {
     "name": "stderr",
     "output_type": "stream",
     "text": [
      "  % Total    % Received % Xferd  Average Speed   Time    Time     Time  Current\n",
      "                                 Dload  Upload   Total   Spent    Left  Speed\n",
      "100  515k    0     0  100  515k      0  81966  0:00:06  0:00:06 --:--:--     0"
     ]
    },
    {
     "name": "stdout",
     "output_type": "stream",
     "text": [
      "/Users/pqh443/Documents/Git_projects/GPRC_peptide_benchmarking/tournament_benchmark/gpcr_tournament/ghsr_tournament/ghsr_tournament.pdb - GRNs: []\n",
      "Processing /Users/pqh443/Documents/Git_projects/GPRC_peptide_benchmarking/tournament_benchmark/gpcr_tournament/cml1_tournament/cml1_tournament.pdb, 9/124\n"
     ]
    },
    {
     "name": "stderr",
     "output_type": "stream",
     "text": [
      "100 1030k  100  514k  100  515k  75670  75736  0:00:06  0:00:06 --:--:--  113k\n",
      "  % Total    % Received % Xferd  Average Speed   Time    Time     Time  Current\n",
      "                                 Dload  Upload   Total   Spent    Left  Speed\n",
      " 51 1075k    2 16139  100  538k   2274  77648  0:04:02  0:00:07  0:03:55  3450"
     ]
    },
    {
     "name": "stdout",
     "output_type": "stream",
     "text": [
      "/Users/pqh443/Documents/Git_projects/GPRC_peptide_benchmarking/tournament_benchmark/gpcr_tournament/cml1_tournament/cml1_tournament.pdb - GRNs: ['2.60', '2.63', '3.29', '4.65', '45.50', '45.51', '45.52', '5.24', '5.25', '5.36', '6.51', '6.54', '6.55', '6.57', '6.58', '6.59', '6.61', '7.26', '7.27', '7.28', '7.30', '7.31', '7.32', '7.34', '7.35', '7.38']\n",
      "Processing /Users/pqh443/Documents/Git_projects/GPRC_peptide_benchmarking/tournament_benchmark/gpcr_tournament/galr1_tournament/galr1_tournament.pdb, 10/124\n"
     ]
    },
    {
     "name": "stderr",
     "output_type": "stream",
     "text": [
      "100 1075k  100  537k  100  538k  75300  75362  0:00:07  0:00:07 --:--:--  138k\n",
      "  % Total    % Received % Xferd  Average Speed   Time    Time     Time  Current\n",
      "                                 Dload  Upload   Total   Spent    Left  Speed\n",
      "100  296k    0     0  100  296k      0  70558  0:00:04  0:00:04 --:--:-- 70567"
     ]
    },
    {
     "name": "stdout",
     "output_type": "stream",
     "text": [
      "/Users/pqh443/Documents/Git_projects/GPRC_peptide_benchmarking/tournament_benchmark/gpcr_tournament/galr1_tournament/galr1_tournament.pdb - GRNs: ['1.29', '1.30', '1.31', '1.32', '2.56', '2.59', '2.60', '2.62', '2.63', '2.64', '2.65', '2.66', '23.49', '23.50', '3.28', '3.29', '3.32', '4.65', '45.50', '45.51', '45.52', '5.36', '6.54', '6.55', '6.57', '6.58', '6.59', '7.27', '7.28', '7.29', '7.30', '7.31', '7.32', '7.34', '7.38']\n",
      "Processing /Users/pqh443/Documents/Git_projects/GPRC_peptide_benchmarking/tournament_benchmark/gpcr_tournament/pth1r_tournament/pth1r_tournament.pdb, 11/124\n"
     ]
    },
    {
     "name": "stderr",
     "output_type": "stream",
     "text": [
      "100  592k  100  296k  100  296k  67094  67196  0:00:04  0:00:04 --:--:--  131k\n",
      "  % Total    % Received % Xferd  Average Speed   Time    Time     Time  Current\n",
      "                                 Dload  Upload   Total   Spent    Left  Speed\n",
      "100  475k    0     0  100  475k      0   108k  0:00:04  0:00:04 --:--:--  108k"
     ]
    },
    {
     "name": "stdout",
     "output_type": "stream",
     "text": [
      "/Users/pqh443/Documents/Git_projects/GPRC_peptide_benchmarking/tournament_benchmark/gpcr_tournament/pth1r_tournament/pth1r_tournament.pdb - GRNs: ['1.25', '1.26', '1.27', '1.28', '1.29', '1.30', '1.32', '1.33', '1.36', '1.37', '1.39', '1.40', '1.43', '1.47', '2.60', '2.64', '2.67', '2.68', '2.71', '2.72', '2.74', '2.75', '3.26', '3.33', '3.36', '3.37', '3.40', '3.44', '4.60', '4.64', '45.50', '45.51', '45.52', '5.36', '5.37', '5.38', '5.39', '5.40', '5.41', '5.43', '5.44', '5.47', '6.53', '6.56', '6.57', '6.58', '6.59', '7.34', '7.37', '7.38', '7.41', '7.42', '7.45', '7.46', '7.49']\n",
      "Processing /Users/pqh443/Documents/Git_projects/GPRC_peptide_benchmarking/tournament_benchmark/gpcr_tournament/vipr2_tournament/vipr2_tournament.pdb, 12/124\n"
     ]
    },
    {
     "name": "stderr",
     "output_type": "stream",
     "text": [
      "100  951k  100  475k  100  475k   100k   100k  0:00:04  0:00:04 --:--:--  200k\n",
      "  % Total    % Received % Xferd  Average Speed   Time    Time     Time  Current\n",
      "                                 Dload  Upload   Total   Spent    Left  Speed\n",
      "100  464k    0     0  100  464k      0  89673  0:00:05  0:00:05 --:--:-- 89685"
     ]
    },
    {
     "name": "stdout",
     "output_type": "stream",
     "text": [
      "/Users/pqh443/Documents/Git_projects/GPRC_peptide_benchmarking/tournament_benchmark/gpcr_tournament/vipr2_tournament/vipr2_tournament.pdb - GRNs: ['1.26', '1.27', '1.29', '1.30', '1.32', '1.33', '1.34', '1.35', '1.36', '1.37', '1.39', '1.40', '1.43', '1.47', '2.64', '2.67', '2.68', '2.70', '2.71', '3.33', '3.36', '3.37', '3.40', '3.44', '45.52', '5.37', '5.40', '5.43', '6.53', '7.34', '7.37', '7.38', '7.39', '7.41', '7.42']\n",
      "Processing /Users/pqh443/Documents/Git_projects/GPRC_peptide_benchmarking/tournament_benchmark/gpcr_tournament/crfr2_tournament/crfr2_tournament.pdb, 13/124\n"
     ]
    },
    {
     "name": "stderr",
     "output_type": "stream",
     "text": [
      "100  928k  100  464k  100  464k  85881  85964  0:00:05  0:00:05 --:--:--  113k\n",
      "  % Total    % Received % Xferd  Average Speed   Time    Time     Time  Current\n",
      "                                 Dload  Upload   Total   Spent    Left  Speed\n",
      "100  425k    0     0  100  425k      0   124k  0:00:03  0:00:03 --:--:--  124k"
     ]
    },
    {
     "name": "stdout",
     "output_type": "stream",
     "text": [
      "/Users/pqh443/Documents/Git_projects/GPRC_peptide_benchmarking/tournament_benchmark/gpcr_tournament/crfr2_tournament/crfr2_tournament.pdb - GRNs: ['1.23', '1.24', '1.25', '1.26', '1.27', '1.28', '1.29', '1.30', '1.31', '1.32', '1.33', '1.34', '1.35', '1.36', '1.37', '1.39', '1.40', '1.41', '1.43', '1.47', '2.64', '2.67', '2.68', '2.69', '2.70', '3.33', '3.36', '3.37', '3.40', '3.44', '45.51', '45.52', '5.37', '5.38', '5.39', '5.40', '5.41', '5.43', '5.44', '5.47', '6.52', '6.53', '6.54', '6.56', '6.57', '6.58', '7.34', '7.37', '7.38', '7.39', '7.41', '7.42', '7.45']\n",
      "Processing /Users/pqh443/Documents/Git_projects/GPRC_peptide_benchmarking/tournament_benchmark/gpcr_tournament/agtr2_tournament/agtr2_tournament.pdb, 14/124\n"
     ]
    },
    {
     "name": "stderr",
     "output_type": "stream",
     "text": [
      "100  849k  100  424k  100  425k   115k   115k  0:00:03  0:00:03 --:--:--  231k\n",
      "  % Total    % Received % Xferd  Average Speed   Time    Time     Time  Current\n",
      "                                 Dload  Upload   Total   Spent    Left  Speed\n",
      "100  462k    0     0  100  462k      0   105k  0:00:04  0:00:04 --:--:--  105k"
     ]
    },
    {
     "name": "stdout",
     "output_type": "stream",
     "text": [
      "/Users/pqh443/Documents/Git_projects/GPRC_peptide_benchmarking/tournament_benchmark/gpcr_tournament/agtr2_tournament/agtr2_tournament.pdb - GRNs: []\n",
      "Processing /Users/pqh443/Documents/Git_projects/GPRC_peptide_benchmarking/tournament_benchmark/gpcr_tournament/v1br_tournament/v1br_tournament.pdb, 15/124\n"
     ]
    },
    {
     "name": "stderr",
     "output_type": "stream",
     "text": [
      "100  925k  100  462k  100  462k  92974  93064  0:00:05  0:00:05 --:--:--  164k\n",
      "  % Total    % Received % Xferd  Average Speed   Time    Time     Time  Current\n",
      "                                 Dload  Upload   Total   Spent    Left  Speed\n",
      "100  375k    0     0  100  375k      0  86721  0:00:04  0:00:04 --:--:-- 86737"
     ]
    },
    {
     "name": "stdout",
     "output_type": "stream",
     "text": [
      "/Users/pqh443/Documents/Git_projects/GPRC_peptide_benchmarking/tournament_benchmark/gpcr_tournament/v1br_tournament/v1br_tournament.pdb - GRNs: ['-5.46', '2.60', '2.63', '23.49', '3.29', '3.33', '3.36', '4.61', '4.65', '45.50', '45.51', '45.52', '5.35', '5.36', '5.37', '5.39', '5.40', '5.41', '5.42', '5.43', '5.44', '6.51', '6.52', '6.55', '6.58', '6.59', '7.29', '7.38']\n",
      "Processing /Users/pqh443/Documents/Git_projects/GPRC_peptide_benchmarking/tournament_benchmark/gpcr_tournament/acthr_tournament/acthr_tournament.pdb, 16/124\n"
     ]
    },
    {
     "name": "stderr",
     "output_type": "stream",
     "text": [
      "100  750k  100  374k  100  375k  81042  81139  0:00:04  0:00:04 --:--:--  158k\n",
      "  % Total    % Received % Xferd  Average Speed   Time    Time     Time  Current\n",
      "                                 Dload  Upload   Total   Spent    Left  Speed\n",
      "100  305k    0     0  100  305k      0  75877  0:00:04  0:00:04 --:--:-- 75871"
     ]
    },
    {
     "name": "stdout",
     "output_type": "stream",
     "text": [
      "/Users/pqh443/Documents/Git_projects/GPRC_peptide_benchmarking/tournament_benchmark/gpcr_tournament/acthr_tournament/acthr_tournament.pdb - GRNs: ['1.35', '1.38', '1.39', '2.68', '7.32', '7.33', '7.34', '7.35', '7.36', '7.37', '7.38', '7.39', '7.40']\n",
      "Processing /Users/pqh443/Documents/Git_projects/GPRC_peptide_benchmarking/tournament_benchmark/gpcr_tournament/cxcr3_tournament/cxcr3_tournament.pdb, 17/124\n"
     ]
    },
    {
     "name": "stderr",
     "output_type": "stream",
     "text": [
      "100  610k  100  305k  100  305k  72054  72159  0:00:04  0:00:04 --:--:--  142k\n",
      "  % Total    % Received % Xferd  Average Speed   Time    Time     Time  Current\n",
      "                                 Dload  Upload   Total   Spent    Left  Speed\n",
      "100  412k    0     0  100  412k      0  91159  0:00:04  0:00:04 --:--:-- 91143"
     ]
    },
    {
     "name": "stdout",
     "output_type": "stream",
     "text": [
      "/Users/pqh443/Documents/Git_projects/GPRC_peptide_benchmarking/tournament_benchmark/gpcr_tournament/cxcr3_tournament/cxcr3_tournament.pdb - GRNs: ['3.51', '3.52', '3.53', '3.54', '3.55', '3.56', '34.50', '34.51', '34.52', '34.53', '4.40', '4.41']\n",
      "Processing /Users/pqh443/Documents/Git_projects/GPRC_peptide_benchmarking/tournament_benchmark/gpcr_tournament/ccr4_tournament/ccr4_tournament.pdb, 18/124\n"
     ]
    },
    {
     "name": "stderr",
     "output_type": "stream",
     "text": [
      "100  823k  100  411k  100  412k  81291  81380  0:00:05  0:00:05 --:--:--  120k\n",
      "  % Total    % Received % Xferd  Average Speed   Time    Time     Time  Current\n",
      "                                 Dload  Upload   Total   Spent    Left  Speed\n",
      "100  856k  100  428k  100  428k  84501  84589  0:00:05  0:00:05 --:--:--  119k\n"
     ]
    },
    {
     "name": "stdout",
     "output_type": "stream",
     "text": [
      "/Users/pqh443/Documents/Git_projects/GPRC_peptide_benchmarking/tournament_benchmark/gpcr_tournament/ccr4_tournament/ccr4_tournament.pdb - GRNs: ['1.24', '1.25', '1.26', '1.27', '1.28', '1.29', '1.31', '1.35', '1.39', '2.56', '2.57', '2.60', '2.61', '2.63', '2.64', '3.28', '3.29', '3.30', '3.32', '3.33', '4.61', '4.65', '45.50', '45.51', '45.52', '5.32', '5.33', '5.36', '5.39', '5.40', '5.41', '5.43', '6.51', '6.55', '6.58', '6.61', '6.62', '6.63', '6.64', '7.23', '7.24', '7.25', '7.26', '7.27', '7.30', '7.31', '7.32', '7.34', '7.35', '7.36', '7.38', '7.42']\n",
      "Processing /Users/pqh443/Documents/Git_projects/GPRC_peptide_benchmarking/tournament_benchmark/gpcr_tournament/npsr1_tournament/npsr1_tournament.pdb, 19/124\n"
     ]
    },
    {
     "name": "stderr",
     "output_type": "stream",
     "text": [
      "  % Total    % Received % Xferd  Average Speed   Time    Time     Time  Current\n",
      "                                 Dload  Upload   Total   Spent    Left  Speed\n",
      "100  424k    0     0  100  424k      0  52079  0:00:08  0:00:08 --:--:--     0"
     ]
    },
    {
     "name": "stdout",
     "output_type": "stream",
     "text": [
      "/Users/pqh443/Documents/Git_projects/GPRC_peptide_benchmarking/tournament_benchmark/gpcr_tournament/npsr1_tournament/npsr1_tournament.pdb - GRNs: []\n",
      "Processing /Users/pqh443/Documents/Git_projects/GPRC_peptide_benchmarking/tournament_benchmark/gpcr_tournament/hrh4_tournament/hrh4_tournament.pdb, 20/124\n"
     ]
    },
    {
     "name": "stderr",
     "output_type": "stream",
     "text": [
      "100  847k  100  423k  100  424k  50192  50245  0:00:08  0:00:08 --:--:--  102k\n",
      "  % Total    % Received % Xferd  Average Speed   Time    Time     Time  Current\n",
      "                                 Dload  Upload   Total   Spent    Left  Speed\n",
      "100  406k    0     0  100  406k      0  85398  0:00:04  0:00:04 --:--:-- 85385"
     ]
    },
    {
     "name": "stdout",
     "output_type": "stream",
     "text": [
      "/Users/pqh443/Documents/Git_projects/GPRC_peptide_benchmarking/tournament_benchmark/gpcr_tournament/hrh4_tournament/hrh4_tournament.pdb - GRNs: ['1.60', '12.49', '12.50', '6.29', '7.56', '8.47', '8.48', '8.49', '8.51', '8.52', '8.53', '8.55', '8.56', '8.59']\n",
      "Processing /Users/pqh443/Documents/Git_projects/GPRC_peptide_benchmarking/tournament_benchmark/gpcr_tournament/ssr3_tournament/ssr3_tournament.pdb, 21/124\n"
     ]
    },
    {
     "name": "stderr",
     "output_type": "stream",
     "text": [
      "100  812k  100  405k  100  406k  81509  81599  0:00:05  0:00:05 --:--:--  110k\n",
      "  % Total    % Received % Xferd  Average Speed   Time    Time     Time  Current\n",
      "                                 Dload  Upload   Total   Spent    Left  Speed\n",
      "100  468k    0     0  100  468k      0  73399  0:00:06  0:00:06 --:--:--     0"
     ]
    },
    {
     "name": "stdout",
     "output_type": "stream",
     "text": [
      "/Users/pqh443/Documents/Git_projects/GPRC_peptide_benchmarking/tournament_benchmark/gpcr_tournament/ssr3_tournament/ssr3_tournament.pdb - GRNs: ['1.39', '2.53', '2.60', '2.63', '2.64', '2.66', '23.49', '3.29', '3.32', '3.33', '3.36', '3.37', '4.61', '45.50', '45.51', '45.52', '5.35', '5.36', '5.37', '5.39', '5.40', '5.43', '5.44', '6.48', '6.51', '6.52', '6.55', '6.58', '6.59', '7.27', '7.28', '7.30', '7.31', '7.32', '7.34', '7.35', '7.38', '7.41', '7.42']\n",
      "Processing /Users/pqh443/Documents/Git_projects/GPRC_peptide_benchmarking/tournament_benchmark/gpcr_tournament/glr_tournament/glr_tournament.pdb, 22/124\n"
     ]
    },
    {
     "name": "stderr",
     "output_type": "stream",
     "text": [
      "100  936k  100  467k  100  468k  69416  69482  0:00:06  0:00:06 --:--:--  106k\n",
      "  % Total    % Received % Xferd  Average Speed   Time    Time     Time  Current\n",
      "                                 Dload  Upload   Total   Spent    Left  Speed\n",
      "100  459k    0     0  100  459k      0   131k  0:00:03  0:00:03 --:--:--  131k"
     ]
    },
    {
     "name": "stdout",
     "output_type": "stream",
     "text": [
      "/Users/pqh443/Documents/Git_projects/GPRC_peptide_benchmarking/tournament_benchmark/gpcr_tournament/glr_tournament/glr_tournament.pdb - GRNs: ['1.29', '1.30', '1.32', '1.33', '1.34', '1.35', '1.36', '1.37', '1.39', '1.40', '1.43', '1.47', '2.60', '2.64', '2.65', '2.67', '2.68', '2.71', '2.72', '2.74', '2.75', '3.36', '3.37', '3.40', '3.44', '45.50', '45.51', '45.52', '5.37', '5.40', '5.43', '5.47', '6.53', '6.56', '6.57', '6.61', '7.34', '7.37', '7.38', '7.41', '7.42', '7.43', '7.45', '7.46']\n",
      "Processing /Users/pqh443/Documents/Git_projects/GPRC_peptide_benchmarking/tournament_benchmark/gpcr_tournament/ccr9_tournament/ccr9_tournament.pdb, 23/124\n"
     ]
    },
    {
     "name": "stderr",
     "output_type": "stream",
     "text": [
      "100  918k  100  459k  100  459k   110k   110k  0:00:04  0:00:04 --:--:--  220k\n",
      "  % Total    % Received % Xferd  Average Speed   Time    Time     Time  Current\n",
      "                                 Dload  Upload   Total   Spent    Left  Speed\n",
      "100  858k  100  429k  100  429k  85840  85930  0:00:05  0:00:05 --:--:--  120k\n"
     ]
    },
    {
     "name": "stdout",
     "output_type": "stream",
     "text": [
      "/Users/pqh443/Documents/Git_projects/GPRC_peptide_benchmarking/tournament_benchmark/gpcr_tournament/ccr9_tournament/ccr9_tournament.pdb - GRNs: ['1.27', '1.28', '1.31', '1.35', '1.39', '2.60', '2.63', '2.64', '2.65', '2.66', '23.49', '23.50', '3.29', '3.32', '3.33', '4.61', '45.50', '45.51', '45.52', '5.36', '5.40', '5.43', '6.58', '6.61', '6.62', '6.63', '6.65', '7.23', '7.24', '7.25', '7.27', '7.28', '7.30', '7.31', '7.32', '7.34', '7.35', '7.38', '7.42']\n",
      "Processing /Users/pqh443/Documents/Git_projects/GPRC_peptide_benchmarking/tournament_benchmark/gpcr_tournament/mshr_tournament/mshr_tournament.pdb, 24/124\n"
     ]
    },
    {
     "name": "stderr",
     "output_type": "stream",
     "text": [
      "  % Total    % Received % Xferd  Average Speed   Time    Time     Time  Current\n",
      "                                 Dload  Upload   Total   Spent    Left  Speed\n",
      "100  284k    0     0  100  284k      0  73819  0:00:03  0:00:03 --:--:-- 73818"
     ]
    },
    {
     "name": "stdout",
     "output_type": "stream",
     "text": [
      "/Users/pqh443/Documents/Git_projects/GPRC_peptide_benchmarking/tournament_benchmark/gpcr_tournament/mshr_tournament/mshr_tournament.pdb - GRNs: ['1.36', '1.39', '2.56', '2.57', '2.58', '2.59', '2.60', '2.61', '2.62', '2.63', '2.64', '2.67', '2.68', '3.17', '3.18', '3.19', '3.20', '3.21', '3.22', '3.23', '3.24', '3.25', '3.26', '3.28', '3.29', '3.30', '3.32', '3.33', '3.36', '4.57', '4.58', '4.59', '4.60', '4.61', '4.62', '4.63', '5.36', '5.39', '5.40', '5.43', '6.51', '6.54', '6.55', '6.57', '6.58', '6.61', '7.34', '7.35', '7.38']\n",
      "Processing /Users/pqh443/Documents/Git_projects/GPRC_peptide_benchmarking/tournament_benchmark/gpcr_tournament/oprd_tournament/oprd_tournament.pdb, 25/124\n"
     ]
    },
    {
     "name": "stderr",
     "output_type": "stream",
     "text": [
      "100  569k  100  284k  100  284k  69678  69787  0:00:04  0:00:04 --:--:--  136k\n",
      "  % Total    % Received % Xferd  Average Speed   Time    Time     Time  Current\n",
      "                                 Dload  Upload   Total   Spent    Left  Speed\n",
      "100  419k    0     0  100  419k      0  66966  0:00:06  0:00:06 --:--:--     0"
     ]
    },
    {
     "name": "stdout",
     "output_type": "stream",
     "text": [
      "/Users/pqh443/Documents/Git_projects/GPRC_peptide_benchmarking/tournament_benchmark/gpcr_tournament/oprd_tournament/oprd_tournament.pdb - GRNs: []\n",
      "Processing /Users/pqh443/Documents/Git_projects/GPRC_peptide_benchmarking/tournament_benchmark/gpcr_tournament/ntr2_tournament/ntr2_tournament.pdb, 26/124\n"
     ]
    },
    {
     "name": "stderr",
     "output_type": "stream",
     "text": [
      "100  838k  100  418k  100  419k  63633  63701  0:00:06  0:00:06 --:--:--   99k\n",
      "  % Total    % Received % Xferd  Average Speed   Time    Time     Time  Current\n",
      "                                 Dload  Upload   Total   Spent    Left  Speed\n",
      "100  330k    0     0  100  330k      0  74070  0:00:04  0:00:04 --:--:-- 74060"
     ]
    },
    {
     "name": "stdout",
     "output_type": "stream",
     "text": [
      "/Users/pqh443/Documents/Git_projects/GPRC_peptide_benchmarking/tournament_benchmark/gpcr_tournament/ntr2_tournament/ntr2_tournament.pdb - GRNs: ['2.63', '2.64', '2.67', '3.29', '3.33', '4.61', '4.64', '4.65', '45.50', '45.51', '45.52', '5.33', '5.36', '5.37', '5.39', '5.40', '6.51', '6.54', '6.55', '6.56', '6.57', '6.58', '6.59', '6.60', '6.61', '7.23', '7.24', '7.26', '7.27', '7.30', '7.31', '7.34', '7.38']\n",
      "Processing /Users/pqh443/Documents/Git_projects/GPRC_peptide_benchmarking/tournament_benchmark/gpcr_tournament/pacr_tournament/pacr_tournament.pdb, 27/124\n"
     ]
    },
    {
     "name": "stderr",
     "output_type": "stream",
     "text": [
      "100  660k  100  329k  100  330k  68809  68902  0:00:04  0:00:04 --:--:-- 94898\n",
      "  % Total    % Received % Xferd  Average Speed   Time    Time     Time  Current\n",
      "                                 Dload  Upload   Total   Spent    Left  Speed\n",
      "100  398k    0     0  100  398k      0   108k  0:00:03  0:00:03 --:--:--  108k"
     ]
    },
    {
     "name": "stdout",
     "output_type": "stream",
     "text": [
      "/Users/pqh443/Documents/Git_projects/GPRC_peptide_benchmarking/tournament_benchmark/gpcr_tournament/pacr_tournament/pacr_tournament.pdb - GRNs: ['1.25', '1.26', '1.28', '1.29', '1.30', '1.31', '1.32', '1.33', '1.34', '1.35', '1.36', '1.37', '1.38', '1.39', '1.40', '1.43', '1.47', '2.60', '2.64', '2.67', '2.68', '2.70', '2.71', '3.33', '3.36', '3.37', '3.40', '3.44', '45.50', '45.51', '45.52', '5.37', '5.40', '5.43', '5.44', '5.47', '6.53', '6.56', '6.57', '6.59', '7.34', '7.37', '7.38', '7.41', '7.42', '7.45']\n",
      "Processing /Users/pqh443/Documents/Git_projects/GPRC_peptide_benchmarking/tournament_benchmark/gpcr_tournament/npy1r_tournament/npy1r_tournament.pdb, 28/124\n"
     ]
    },
    {
     "name": "stderr",
     "output_type": "stream",
     "text": [
      "100  797k  100  398k  100  398k  98511  98622  0:00:04  0:00:04 --:--:--  192k\n",
      "  % Total    % Received % Xferd  Average Speed   Time    Time     Time  Current\n",
      "                                 Dload  Upload   Total   Spent    Left  Speed\n",
      "100  463k    0     0  100  463k      0  73454  0:00:06  0:00:06 --:--:--     0"
     ]
    },
    {
     "name": "stdout",
     "output_type": "stream",
     "text": [
      "/Users/pqh443/Documents/Git_projects/GPRC_peptide_benchmarking/tournament_benchmark/gpcr_tournament/npy1r_tournament/npy1r_tournament.pdb - GRNs: ['-2.55', '-5.46', '2.56', '2.57', '2.59', '2.60', '2.61', '2.62', '2.63', '2.64', '2.65', '2.66', '2.67', '23.49', '23.50', '23.52', '3.28', '3.29', '3.32', '3.33', '3.34', '3.36', '3.37', '4.61', '4.65', '45.50', '45.51', '45.52', '5.33', '5.36', '5.39', '5.40', '5.41', '5.43', '5.44', '6.48', '6.51', '6.52', '6.53', '6.54', '6.55', '6.56', '6.57', '6.58', '6.59', '6.60', '7.27', '7.28', '7.29', '7.30', '7.31', '7.34', '7.38', '7.42']\n",
      "Processing /Users/pqh443/Documents/Git_projects/GPRC_peptide_benchmarking/tournament_benchmark/gpcr_tournament/lgr6_tournament/lgr6_tournament.pdb, 29/124\n"
     ]
    },
    {
     "name": "stderr",
     "output_type": "stream",
     "text": [
      "100  926k  100  462k  100  463k  68448  68515  0:00:06  0:00:06 --:--:--  103k\n",
      "  % Total    % Received % Xferd  Average Speed   Time    Time     Time  Current\n",
      "                                 Dload  Upload   Total   Spent    Left  Speed\n",
      "100 1567k  100  783k  100  783k  77686  77731  0:00:10  0:00:10 --:--:--  213k\n"
     ]
    },
    {
     "name": "stdout",
     "output_type": "stream",
     "text": [
      "/Users/pqh443/Documents/Git_projects/GPRC_peptide_benchmarking/tournament_benchmark/gpcr_tournament/lgr6_tournament/lgr6_tournament.pdb - GRNs: []\n",
      "Processing /Users/pqh443/Documents/Git_projects/GPRC_peptide_benchmarking/tournament_benchmark/gpcr_tournament/fzd2_tournament/fzd2_tournament.pdb, 30/124\n"
     ]
    },
    {
     "name": "stderr",
     "output_type": "stream",
     "text": [
      "  % Total    % Received % Xferd  Average Speed   Time    Time     Time  Current\n",
      "                                 Dload  Upload   Total   Spent    Left  Speed\n",
      "100 1334k  100  667k  100  667k   144k   144k  0:00:04  0:00:04 --:--:--  278k\n"
     ]
    },
    {
     "name": "stdout",
     "output_type": "stream",
     "text": [
      "/Users/pqh443/Documents/Git_projects/GPRC_peptide_benchmarking/tournament_benchmark/gpcr_tournament/fzd2_tournament/fzd2_tournament.pdb - GRNs: ['12.48', '12.49', '12.50', '12.51', '2.39', '2.40', '2.41', '2.42', '3.49', '3.50', '3.51', '3.53', '3.54', '3.55', '4.34', '4.35', '4.44', '5.69', '5.76', '6.22', '6.24', '6.25', '6.26', '6.29', '6.30', '6.33', '7.55', '8.49']\n",
      "Processing /Users/pqh443/Documents/Git_projects/GPRC_peptide_benchmarking/tournament_benchmark/gpcr_tournament/mc4r_tournament/mc4r_tournament.pdb, 31/124\n"
     ]
    },
    {
     "name": "stderr",
     "output_type": "stream",
     "text": [
      "  % Total    % Received % Xferd  Average Speed   Time    Time     Time  Current\n",
      "                                 Dload  Upload   Total   Spent    Left  Speed\n",
      "100  308k    0     0  100  308k      0  90704  0:00:03  0:00:03 --:--:-- 90687"
     ]
    },
    {
     "name": "stdout",
     "output_type": "stream",
     "text": [
      "/Users/pqh443/Documents/Git_projects/GPRC_peptide_benchmarking/tournament_benchmark/gpcr_tournament/mc4r_tournament/mc4r_tournament.pdb - GRNs: ['1.36', '1.39', '2.57', '2.58', '2.59', '2.60', '2.61', '2.62', '2.63', '2.64', '2.67', '3.18', '3.21', '3.22', '3.23', '3.24', '3.25', '3.26', '3.27', '3.28', '3.29', '3.30', '3.32', '3.33', '4.60', '4.61', '4.62', '4.63', '4.64', '5.36', '5.39', '5.40', '5.43', '6.51', '6.54', '6.55', '6.58', '6.59', '7.34', '7.35', '7.38']\n",
      "Processing /Users/pqh443/Documents/Git_projects/GPRC_peptide_benchmarking/tournament_benchmark/gpcr_tournament/pkr1_tournament/pkr1_tournament.pdb, 32/124\n"
     ]
    },
    {
     "name": "stderr",
     "output_type": "stream",
     "text": [
      "100  616k  100  308k  100  308k  71313  71417  0:00:04  0:00:04 --:--:--  122k\n",
      "  % Total    % Received % Xferd  Average Speed   Time    Time     Time  Current\n",
      "                                 Dload  Upload   Total   Spent    Left  Speed\n",
      "100 1072k  100  536k  100  536k  80366  80432  0:00:06  0:00:06 --:--:--  171k\n"
     ]
    },
    {
     "name": "stdout",
     "output_type": "stream",
     "text": [
      "/Users/pqh443/Documents/Git_projects/GPRC_peptide_benchmarking/tournament_benchmark/gpcr_tournament/pkr1_tournament/pkr1_tournament.pdb - GRNs: ['2.63', '3.29', '3.32', '45.50', '45.51', '45.52', '5.33', '5.36', '6.51', '6.54', '6.55', '6.58', '6.59', '6.60', '7.27', '7.28', '7.29', '7.30', '7.31', '7.34', '7.35', '7.38']\n",
      "Processing /Users/pqh443/Documents/Git_projects/GPRC_peptide_benchmarking/tournament_benchmark/gpcr_tournament/gipr_tournament/gipr_tournament.pdb, 33/124\n"
     ]
    },
    {
     "name": "stderr",
     "output_type": "stream",
     "text": [
      "  % Total    % Received % Xferd  Average Speed   Time    Time     Time  Current\n",
      "                                 Dload  Upload   Total   Spent    Left  Speed\n",
      "100  407k    0     0  100  407k      0   103k  0:00:03  0:00:03 --:--:--  103k"
     ]
    },
    {
     "name": "stdout",
     "output_type": "stream",
     "text": [
      "/Users/pqh443/Documents/Git_projects/GPRC_peptide_benchmarking/tournament_benchmark/gpcr_tournament/gipr_tournament/gipr_tournament.pdb - GRNs: ['1.26', '1.29', '1.30', '1.31', '1.32', '1.33', '1.34', '1.35', '1.36', '1.37', '1.38', '1.39', '1.40', '1.41', '1.43', '1.47', '2.60', '2.64', '2.67', '2.68', '2.71', '3.33', '3.36', '3.37', '3.40', '3.44', '45.51', '45.52', '5.37', '5.38', '5.39', '5.40', '5.43', '5.44', '6.53', '7.34', '7.35', '7.37', '7.38', '7.41', '7.42', '7.45', '7.46']\n",
      "Processing /Users/pqh443/Documents/Git_projects/GPRC_peptide_benchmarking/tournament_benchmark/gpcr_tournament/sctr_tournament/sctr_tournament.pdb, 34/124\n"
     ]
    },
    {
     "name": "stderr",
     "output_type": "stream",
     "text": [
      "100  815k  100  407k  100  407k  97882  97989  0:00:04  0:00:04 --:--:--  191k\n",
      "  % Total    % Received % Xferd  Average Speed   Time    Time     Time  Current\n",
      "                                 Dload  Upload   Total   Spent    Left  Speed\n",
      "100  419k    0     0  100  419k      0   124k  0:00:03  0:00:03 --:--:--  124k"
     ]
    },
    {
     "name": "stdout",
     "output_type": "stream",
     "text": [
      "/Users/pqh443/Documents/Git_projects/GPRC_peptide_benchmarking/tournament_benchmark/gpcr_tournament/sctr_tournament/sctr_tournament.pdb - GRNs: ['4.66', '4.67', '4.68', '5.33']\n",
      "Processing /Users/pqh443/Documents/Git_projects/GPRC_peptide_benchmarking/tournament_benchmark/gpcr_tournament/npy2r_tournament/npy2r_tournament.pdb, 35/124\n"
     ]
    },
    {
     "name": "stderr",
     "output_type": "stream",
     "text": [
      "100  838k  100  419k  100  419k   112k   112k  0:00:03  0:00:03 --:--:--  225k\n",
      "  % Total    % Received % Xferd  Average Speed   Time    Time     Time  Current\n",
      "                                 Dload  Upload   Total   Spent    Left  Speed\n",
      "100  629k  100  314k  100  315k  69355  69454  0:00:04  0:00:04 --:--:--  117k\n"
     ]
    },
    {
     "name": "stdout",
     "output_type": "stream",
     "text": [
      "/Users/pqh443/Documents/Git_projects/GPRC_peptide_benchmarking/tournament_benchmark/gpcr_tournament/npy2r_tournament/npy2r_tournament.pdb - GRNs: ['-5.46', '2.56', '2.59', '2.60', '2.61', '2.62', '2.63', '2.64', '2.65', '2.67', '23.49', '23.50', '3.28', '3.29', '3.32', '3.33', '3.36', '3.37', '4.61', '45.50', '45.51', '45.52', '5.35', '5.36', '5.37', '5.39', '5.40', '5.43', '6.48', '6.51', '6.52', '6.54', '6.55', '6.56', '6.57', '6.58', '6.59', '7.26', '7.27', '7.28', '7.29', '7.30', '7.31', '7.34', '7.38', '7.42']\n",
      "Processing /Users/pqh443/Documents/Git_projects/GPRC_peptide_benchmarking/tournament_benchmark/gpcr_tournament/calcr_tournament/calcr_tournament.pdb, 36/124\n"
     ]
    },
    {
     "name": "stderr",
     "output_type": "stream",
     "text": [
      "  % Total    % Received % Xferd  Average Speed   Time    Time     Time  Current\n",
      "                                 Dload  Upload   Total   Spent    Left  Speed\n",
      " 53  830k    7 32523  100  415k   9344   119k  0:00:45  0:00:03  0:00:42  128k"
     ]
    },
    {
     "name": "stdout",
     "output_type": "stream",
     "text": [
      "/Users/pqh443/Documents/Git_projects/GPRC_peptide_benchmarking/tournament_benchmark/gpcr_tournament/calcr_tournament/calcr_tournament.pdb - GRNs: []\n",
      "Processing /Users/pqh443/Documents/Git_projects/GPRC_peptide_benchmarking/tournament_benchmark/gpcr_tournament/trfr_tournament/trfr_tournament.pdb, 37/124\n"
     ]
    },
    {
     "name": "stderr",
     "output_type": "stream",
     "text": [
      "100  830k  100  414k  100  415k   112k   112k  0:00:03  0:00:03 --:--:--  224k\n",
      "  % Total    % Received % Xferd  Average Speed   Time    Time     Time  Current\n",
      "                                 Dload  Upload   Total   Spent    Left  Speed\n",
      "100  492k    0     0  100  492k      0  95423  0:00:05  0:00:05 --:--:-- 95431"
     ]
    },
    {
     "name": "stdout",
     "output_type": "stream",
     "text": [
      "/Users/pqh443/Documents/Git_projects/GPRC_peptide_benchmarking/tournament_benchmark/gpcr_tournament/trfr_tournament/trfr_tournament.pdb - GRNs: []\n",
      "Processing /Users/pqh443/Documents/Git_projects/GPRC_peptide_benchmarking/tournament_benchmark/gpcr_tournament/cckar_tournament/cckar_tournament.pdb, 38/124\n"
     ]
    },
    {
     "name": "stderr",
     "output_type": "stream",
     "text": [
      "100  984k  100  492k  100  492k  90429  90511  0:00:05  0:00:05 --:--:--  158k\n",
      "  % Total    % Received % Xferd  Average Speed   Time    Time     Time  Current\n",
      "                                 Dload  Upload   Total   Spent    Left  Speed\n",
      "100  669k  100  334k  100  334k  70127  70221  0:00:04  0:00:04 --:--:-- 97024\n"
     ]
    },
    {
     "name": "stdout",
     "output_type": "stream",
     "text": [
      "/Users/pqh443/Documents/Git_projects/GPRC_peptide_benchmarking/tournament_benchmark/gpcr_tournament/cckar_tournament/cckar_tournament.pdb - GRNs: ['-2.55', '-5.46', '2.56', '2.57', '2.58', '2.59', '2.60', '2.61', '2.62', '2.63', '2.64', '2.65', '2.66', '2.67', '23.49', '23.50', '3.25', '3.28', '3.29', '3.32', '3.33', '3.34', '3.35', '3.36', '3.37', '4.57', '4.61', '45.50', '45.51', '45.52', '5.36', '5.39', '5.40', '5.43', '6.48', '6.51', '6.52', '6.54', '6.55', '6.57', '6.58', '7.31', '7.34', '7.38', '7.41', '7.42']\n",
      "Processing /Users/pqh443/Documents/Git_projects/GPRC_peptide_benchmarking/tournament_benchmark/gpcr_tournament/ssr4_tournament/ssr4_tournament.pdb, 39/124\n"
     ]
    },
    {
     "name": "stderr",
     "output_type": "stream",
     "text": [
      "  % Total    % Received % Xferd  Average Speed   Time    Time     Time  Current\n",
      "                                 Dload  Upload   Total   Spent    Left  Speed\n",
      "100  883k  100  441k  100  442k  65777  65843  0:00:06  0:00:06 --:--:--  129k\n"
     ]
    },
    {
     "name": "stdout",
     "output_type": "stream",
     "text": [
      "/Users/pqh443/Documents/Git_projects/GPRC_peptide_benchmarking/tournament_benchmark/gpcr_tournament/ssr4_tournament/ssr4_tournament.pdb - GRNs: ['2.53', '2.60', '2.63', '2.64', '23.49', '23.50', '3.29', '3.32', '3.33', '3.36', '4.61', '45.50', '45.51', '45.52', '5.33', '5.35', '5.36', '5.37', '5.39', '5.40', '5.43', '5.44', '6.48', '6.51', '6.52', '6.55', '6.58', '6.59', '6.60', '6.61', '7.31', '7.34', '7.35', '7.38', '7.41', '7.42']\n",
      "Processing /Users/pqh443/Documents/Git_projects/GPRC_peptide_benchmarking/tournament_benchmark/gpcr_tournament/galr3_tournament/galr3_tournament.pdb, 40/124\n"
     ]
    },
    {
     "name": "stderr",
     "output_type": "stream",
     "text": [
      "  % Total    % Received % Xferd  Average Speed   Time    Time     Time  Current\n",
      "                                 Dload  Upload   Total   Spent    Left  Speed\n",
      "100  310k    0     0  100  310k      0  72543  0:00:04  0:00:04 --:--:-- 72555"
     ]
    },
    {
     "name": "stdout",
     "output_type": "stream",
     "text": [
      "/Users/pqh443/Documents/Git_projects/GPRC_peptide_benchmarking/tournament_benchmark/gpcr_tournament/galr3_tournament/galr3_tournament.pdb - GRNs: ['1.30', '1.31', '1.32', '1.33', '1.35', '2.59', '2.60', '2.62', '2.63', '2.64', '2.65', '2.66', '23.49', '23.50', '23.51', '3.25', '3.29', '3.32', '3.33', '4.64', '4.65', '45.50', '45.51', '45.52', '5.32', '5.33', '5.36', '6.55', '6.58', '6.59', '7.26', '7.27', '7.28', '7.29', '7.30', '7.31', '7.32', '7.34', '7.35', '7.38']\n",
      "Processing /Users/pqh443/Documents/Git_projects/GPRC_peptide_benchmarking/tournament_benchmark/gpcr_tournament/npbw2_tournament/npbw2_tournament.pdb, 41/124\n"
     ]
    },
    {
     "name": "stderr",
     "output_type": "stream",
     "text": [
      "100  619k  100  309k  100  310k  67824  67922  0:00:04  0:00:04 --:--:-- 95900\n",
      "  % Total    % Received % Xferd  Average Speed   Time    Time     Time  Current\n",
      "                                 Dload  Upload   Total   Spent    Left  Speed\n",
      "100  824k  100  412k  100  412k  60423  60488  0:00:06  0:00:06 --:--:--  117k\n"
     ]
    },
    {
     "name": "stdout",
     "output_type": "stream",
     "text": [
      "/Users/pqh443/Documents/Git_projects/GPRC_peptide_benchmarking/tournament_benchmark/gpcr_tournament/npbw2_tournament/npbw2_tournament.pdb - GRNs: ['2.39', '3.45', '3.46', '3.47', '3.48', '3.49', '3.50', '3.51', '3.52', '3.53', '3.54', '3.55', '3.56', '4.38', '5.57', '5.60', '5.64']\n",
      "Processing /Users/pqh443/Documents/Git_projects/GPRC_peptide_benchmarking/tournament_benchmark/gpcr_tournament/nmbr_tournament/nmbr_tournament.pdb, 42/124\n"
     ]
    },
    {
     "name": "stderr",
     "output_type": "stream",
     "text": [
      "  % Total    % Received % Xferd  Average Speed   Time    Time     Time  Current\n",
      "                                 Dload  Upload   Total   Spent    Left  Speed\n",
      "100  459k    0     0  100  459k      0  70356  0:00:06  0:00:06 --:--:--     0"
     ]
    },
    {
     "name": "stdout",
     "output_type": "stream",
     "text": [
      "/Users/pqh443/Documents/Git_projects/GPRC_peptide_benchmarking/tournament_benchmark/gpcr_tournament/nmbr_tournament/nmbr_tournament.pdb - GRNs: ['-5.46', '1.31', '2.53', '2.56', '2.59', '2.60', '2.62', '2.63', '2.64', '2.65', '2.66', '23.49', '23.50', '23.51', '3.24', '3.25', '3.26', '3.28', '3.29', '3.32', '3.33', '3.36', '4.61', '4.65', '45.50', '45.51', '45.52', '5.43', '6.48', '6.51', '6.52', '6.53', '6.54', '6.55', '6.58', '6.59', '7.27', '7.28', '7.29', '7.30', '7.31', '7.32', '7.34', '7.35', '7.38', '7.42']\n",
      "Processing /Users/pqh443/Documents/Git_projects/GPRC_peptide_benchmarking/tournament_benchmark/gpcr_tournament/nmur2_tournament/nmur2_tournament.pdb, 43/124\n"
     ]
    },
    {
     "name": "stderr",
     "output_type": "stream",
     "text": [
      "100  919k  100  459k  100  459k  67651  67717  0:00:06  0:00:06 --:--:--  129k\n",
      "  % Total    % Received % Xferd  Average Speed   Time    Time     Time  Current\n",
      "                                 Dload  Upload   Total   Spent    Left  Speed\n",
      "100  409k    0     0  100  409k      0  94060  0:00:04  0:00:04 --:--:-- 94042"
     ]
    },
    {
     "name": "stdout",
     "output_type": "stream",
     "text": [
      "/Users/pqh443/Documents/Git_projects/GPRC_peptide_benchmarking/tournament_benchmark/gpcr_tournament/nmur2_tournament/nmur2_tournament.pdb - GRNs: ['1.28', '1.29', '1.30', '1.31', '1.32', '1.35', '1.39', '2.60', '2.63', '2.64', '2.65', '2.66', '2.67', '23.49', '23.50', '3.25', '3.28', '3.29', '3.30', '3.32', '3.33', '3.36', '4.61', '4.65', '45.50', '45.51', '45.52', '5.35', '5.39', '6.50', '6.51', '6.54', '6.55', '6.58', '6.59', '6.61', '7.24', '7.26', '7.27', '7.28', '7.30', '7.31', '7.32', '7.33', '7.34', '7.35', '7.36', '7.37', '7.38', '7.39', '7.41', '7.42']\n",
      "Processing /Users/pqh443/Documents/Git_projects/GPRC_peptide_benchmarking/tournament_benchmark/gpcr_tournament/oxyr_tournament/oxyr_tournament.pdb, 44/124\n"
     ]
    },
    {
     "name": "stderr",
     "output_type": "stream",
     "text": [
      "100  818k  100  408k  100  409k  82392  82482  0:00:05  0:00:05 --:--:--  107k\n",
      "  % Total    % Received % Xferd  Average Speed   Time    Time     Time  Current\n",
      "                                 Dload  Upload   Total   Spent    Left  Speed\n",
      "100  273k    0     0  100  273k      0  63663  0:00:04  0:00:04 --:--:-- 63664"
     ]
    },
    {
     "name": "stdout",
     "output_type": "stream",
     "text": [
      "/Users/pqh443/Documents/Git_projects/GPRC_peptide_benchmarking/tournament_benchmark/gpcr_tournament/oxyr_tournament/oxyr_tournament.pdb - GRNs: ['6.25', '6.28', '6.29', '6.30', '6.32', '6.36', '7.55', '7.56', '8.47', '8.48', '8.49', '8.51', '8.52']\n",
      "Processing /Users/pqh443/Documents/Git_projects/GPRC_peptide_benchmarking/tournament_benchmark/gpcr_tournament/cxcr4_tournament/cxcr4_tournament.pdb, 45/124\n"
     ]
    },
    {
     "name": "stderr",
     "output_type": "stream",
     "text": [
      "100  547k  100  273k  100  273k  55440  55530  0:00:05  0:00:05 --:--:--  112k\n",
      "  % Total    % Received % Xferd  Average Speed   Time    Time     Time  Current\n",
      "                                 Dload  Upload   Total   Spent    Left  Speed\n",
      "100  703k  100  351k  100  352k  76195  76292  0:00:04  0:00:04 --:--:--  148k\n"
     ]
    },
    {
     "name": "stdout",
     "output_type": "stream",
     "text": [
      "/Users/pqh443/Documents/Git_projects/GPRC_peptide_benchmarking/tournament_benchmark/gpcr_tournament/cxcr4_tournament/cxcr4_tournament.pdb - GRNs: ['1.24', '1.25', '1.27', '1.31', '1.32', '1.35', '1.36', '1.39', '2.53', '2.57', '2.59', '2.60', '2.61', '2.63', '2.64', '2.65', '2.66', '3.28', '3.29', '3.32', '3.33', '4.61', '4.64', '45.50', '45.51', '45.52', '5.33', '5.36', '5.40', '5.43', '6.51', '6.54', '6.55', '6.57', '6.58', '6.59', '6.60', '6.61', '6.62', '6.63', '6.64', '7.23', '7.24', '7.26', '7.27', '7.30', '7.31', '7.34', '7.35', '7.36', '7.38', '7.39', '7.42']\n",
      "Processing /Users/pqh443/Documents/Git_projects/GPRC_peptide_benchmarking/tournament_benchmark/gpcr_tournament/ccr3_tournament/ccr3_tournament.pdb, 46/124\n"
     ]
    },
    {
     "name": "stderr",
     "output_type": "stream",
     "text": [
      "  % Total    % Received % Xferd  Average Speed   Time    Time     Time  Current\n",
      "                                 Dload  Upload   Total   Spent    Left  Speed\n",
      "100 1076k  100  538k  100  538k  80914  80981  0:00:06  0:00:06 --:--:--  122k\n"
     ]
    },
    {
     "name": "stdout",
     "output_type": "stream",
     "text": [
      "/Users/pqh443/Documents/Git_projects/GPRC_peptide_benchmarking/tournament_benchmark/gpcr_tournament/ccr3_tournament/ccr3_tournament.pdb - GRNs: ['1.24', '1.25', '1.27', '1.28', '1.31', '1.35', '1.39', '2.53', '2.60', '2.63', '2.64', '2.67', '3.29', '3.32', '3.33', '4.65', '45.50', '45.51', '45.52', '5.32', '5.33', '5.36', '5.39', '5.40', '6.51', '6.54', '6.55', '6.56', '6.58', '6.59', '6.60', '6.61', '6.62', '7.23', '7.24', '7.25', '7.27', '7.28', '7.31', '7.32', '7.34', '7.35', '7.38', '7.42']\n",
      "Processing /Users/pqh443/Documents/Git_projects/GPRC_peptide_benchmarking/tournament_benchmark/gpcr_tournament/fpr2_tournament/fpr2_tournament.pdb, 47/124\n"
     ]
    },
    {
     "name": "stderr",
     "output_type": "stream",
     "text": [
      "  % Total    % Received % Xferd  Average Speed   Time    Time     Time  Current\n",
      "                                 Dload  Upload   Total   Spent    Left  Speed\n",
      "100 1351k  100  675k  100  676k   114k   114k  0:00:05  0:00:05 --:--:--  206k\n"
     ]
    },
    {
     "name": "stdout",
     "output_type": "stream",
     "text": [
      "/Users/pqh443/Documents/Git_projects/GPRC_peptide_benchmarking/tournament_benchmark/gpcr_tournament/fpr2_tournament/fpr2_tournament.pdb - GRNs: []\n",
      "Processing /Users/pqh443/Documents/Git_projects/GPRC_peptide_benchmarking/tournament_benchmark/gpcr_tournament/v1ar_tournament/v1ar_tournament.pdb, 48/124\n"
     ]
    },
    {
     "name": "stderr",
     "output_type": "stream",
     "text": [
      "  % Total    % Received % Xferd  Average Speed   Time    Time     Time  Current\n",
      "                                 Dload  Upload   Total   Spent    Left  Speed\n",
      "100  431k    0     0  100  431k      0  85257  0:00:05  0:00:05 --:--:-- 85268"
     ]
    },
    {
     "name": "stdout",
     "output_type": "stream",
     "text": [
      "/Users/pqh443/Documents/Git_projects/GPRC_peptide_benchmarking/tournament_benchmark/gpcr_tournament/v1ar_tournament/v1ar_tournament.pdb - GRNs: []\n",
      "Processing /Users/pqh443/Documents/Git_projects/GPRC_peptide_benchmarking/tournament_benchmark/gpcr_tournament/gpr39_tournament/gpr39_tournament.pdb, 49/124\n"
     ]
    },
    {
     "name": "stderr",
     "output_type": "stream",
     "text": [
      "100  861k  100  430k  100  431k  80906  80989  0:00:05  0:00:05 --:--:--  107k\n",
      "  % Total    % Received % Xferd  Average Speed   Time    Time     Time  Current\n",
      "                                 Dload  Upload   Total   Spent    Left  Speed\n",
      "100  383k    0     0  100  383k      0  88751  0:00:04  0:00:04 --:--:-- 88749"
     ]
    },
    {
     "name": "stdout",
     "output_type": "stream",
     "text": [
      "/Users/pqh443/Documents/Git_projects/GPRC_peptide_benchmarking/tournament_benchmark/gpcr_tournament/gpr39_tournament/gpr39_tournament.pdb - GRNs: ['3.56']\n",
      "Processing /Users/pqh443/Documents/Git_projects/GPRC_peptide_benchmarking/tournament_benchmark/gpcr_tournament/gpr75_tournament/gpr75_tournament.pdb, 50/124\n"
     ]
    },
    {
     "name": "stderr",
     "output_type": "stream",
     "text": [
      "100  767k  100  383k  100  383k  76336  76425  0:00:05  0:00:05 --:--:--  102k\n",
      "  % Total    % Received % Xferd  Average Speed   Time    Time     Time  Current\n",
      "                                 Dload  Upload   Total   Spent    Left  Speed\n",
      "100  602k    0     0  100  602k      0   154k  0:00:03  0:00:03 --:--:--  154k"
     ]
    },
    {
     "name": "stdout",
     "output_type": "stream",
     "text": [
      "/Users/pqh443/Documents/Git_projects/GPRC_peptide_benchmarking/tournament_benchmark/gpcr_tournament/gpr75_tournament/gpr75_tournament.pdb - GRNs: []\n",
      "Processing /Users/pqh443/Documents/Git_projects/GPRC_peptide_benchmarking/tournament_benchmark/gpcr_tournament/gnrhr_tournament/gnrhr_tournament.pdb, 51/124\n"
     ]
    },
    {
     "name": "stderr",
     "output_type": "stream",
     "text": [
      "100 1204k  100  602k  100  602k   144k   145k  0:00:04  0:00:04 --:--:--  290k\n",
      "  % Total    % Received % Xferd  Average Speed   Time    Time     Time  Current\n",
      "                                 Dload  Upload   Total   Spent    Left  Speed\n",
      "100  478k    0     0  100  478k      0   106k  0:00:04  0:00:04 --:--:--  106k"
     ]
    },
    {
     "name": "stdout",
     "output_type": "stream",
     "text": [
      "/Users/pqh443/Documents/Git_projects/GPRC_peptide_benchmarking/tournament_benchmark/gpcr_tournament/gnrhr_tournament/gnrhr_tournament.pdb - GRNs: []\n",
      "Processing /Users/pqh443/Documents/Git_projects/GPRC_peptide_benchmarking/tournament_benchmark/gpcr_tournament/nk3r_tournament/nk3r_tournament.pdb, 52/124\n"
     ]
    },
    {
     "name": "stderr",
     "output_type": "stream",
     "text": [
      "100  955k  100  477k  100  478k  90763  90848  0:00:05  0:00:05 --:--:--  121k\n",
      "  % Total    % Received % Xferd  Average Speed   Time    Time     Time  Current\n",
      "                                 Dload  Upload   Total   Spent    Left  Speed\n",
      "100  361k    0     0  100  361k      0  76697  0:00:04  0:00:04 --:--:-- 76697"
     ]
    },
    {
     "name": "stdout",
     "output_type": "stream",
     "text": [
      "/Users/pqh443/Documents/Git_projects/GPRC_peptide_benchmarking/tournament_benchmark/gpcr_tournament/nk3r_tournament/nk3r_tournament.pdb - GRNs: ['2.57', '2.60', '2.61', '2.64', '2.65', '2.66', '2.67', '2.68', '23.50', '3.25', '3.28', '3.29', '3.32', '3.33', '3.36', '3.37', '4.56', '4.57', '4.61', '45.50', '45.51', '45.52', '5.39', '5.40', '5.43', '6.51', '6.54', '6.55', '6.58', '6.61', '7.28', '7.30', '7.31', '7.32', '7.34', '7.35', '7.38', '7.42']\n",
      "Processing /Users/pqh443/Documents/Git_projects/GPRC_peptide_benchmarking/tournament_benchmark/gpcr_tournament/c5ar2_tournament/c5ar2_tournament.pdb, 53/124\n"
     ]
    },
    {
     "name": "stderr",
     "output_type": "stream",
     "text": [
      "100  722k  100  360k  100  361k  73336  73427  0:00:05  0:00:05 --:--:--   98k\n",
      "  % Total    % Received % Xferd  Average Speed   Time    Time     Time  Current\n",
      "                                 Dload  Upload   Total   Spent    Left  Speed\n",
      "100  587k  100  293k  100  294k  73970  74082  0:00:04  0:00:04 --:--:--  144k\n"
     ]
    },
    {
     "name": "stdout",
     "output_type": "stream",
     "text": [
      "/Users/pqh443/Documents/Git_projects/GPRC_peptide_benchmarking/tournament_benchmark/gpcr_tournament/c5ar2_tournament/c5ar2_tournament.pdb - GRNs: ['1.29', '1.32', '1.35', '1.39', '2.60', '2.63', '2.64', '23.50', '3.28', '3.29', '3.30', '3.32', '3.33', '3.36', '3.37', '4.61', '4.65', '45.50', '45.51', '45.52', '5.32', '5.36', '5.43', '6.51', '6.54', '6.55', '6.57', '6.58', '6.59', '6.60', '6.61', '7.24', '7.25', '7.27', '7.28', '7.29', '7.31', '7.32', '7.34', '7.35', '7.36', '7.38', '7.39', '7.41', '7.42']\n",
      "Processing /Users/pqh443/Documents/Git_projects/GPRC_peptide_benchmarking/tournament_benchmark/gpcr_tournament/ssr1_tournament/ssr1_tournament.pdb, 54/124\n"
     ]
    },
    {
     "name": "stderr",
     "output_type": "stream",
     "text": [
      "  % Total    % Received % Xferd  Average Speed   Time    Time     Time  Current\n",
      "                                 Dload  Upload   Total   Spent    Left  Speed\n",
      "100  952k  100  475k  100  476k  91639  91725  0:00:05  0:00:05 --:--:--  123k\n"
     ]
    },
    {
     "name": "stdout",
     "output_type": "stream",
     "text": [
      "/Users/pqh443/Documents/Git_projects/GPRC_peptide_benchmarking/tournament_benchmark/gpcr_tournament/ssr1_tournament/ssr1_tournament.pdb - GRNs: ['1.39', '2.53', '2.60', '2.63', '2.64', '2.65', '23.49', '23.50', '3.25', '3.29', '3.32', '3.33', '3.36', '3.37', '4.61', '45.50', '45.51', '45.52', '5.35', '5.36', '5.37', '5.39', '5.40', '5.43', '5.44', '6.48', '6.51', '6.52', '6.55', '6.58', '6.59', '7.31', '7.32', '7.34', '7.35', '7.37', '7.38', '7.42']\n",
      "Processing /Users/pqh443/Documents/Git_projects/GPRC_peptide_benchmarking/tournament_benchmark/gpcr_tournament/pth2r_tournament/pth2r_tournament.pdb, 55/124\n"
     ]
    },
    {
     "name": "stderr",
     "output_type": "stream",
     "text": [
      "  % Total    % Received % Xferd  Average Speed   Time    Time     Time  Current\n",
      "                                 Dload  Upload   Total   Spent    Left  Speed\n",
      "100  472k    0     0  100  472k      0   112k  0:00:04  0:00:04 --:--:--  112k"
     ]
    },
    {
     "name": "stdout",
     "output_type": "stream",
     "text": [
      "/Users/pqh443/Documents/Git_projects/GPRC_peptide_benchmarking/tournament_benchmark/gpcr_tournament/pth2r_tournament/pth2r_tournament.pdb - GRNs: ['1.24', '1.25', '1.26', '1.27', '1.28', '1.29', '1.32', '1.33', '1.35', '1.36', '1.37', '1.39', '1.40', '1.43', '1.47', '2.60', '2.64', '2.67', '2.68', '2.71', '2.72', '2.74', '2.75', '3.26', '3.33', '3.36', '3.37', '3.40', '3.44', '4.60', '45.50', '45.51', '45.52', '5.33', '5.37', '5.39', '5.40', '5.43', '5.44', '5.47', '6.53', '6.57', '7.34', '7.37', '7.38', '7.41', '7.42', '7.45', '7.46']\n",
      "Processing /Users/pqh443/Documents/Git_projects/GPRC_peptide_benchmarking/tournament_benchmark/gpcr_tournament/bkrb1_tournament/bkrb1_tournament.pdb, 56/124\n"
     ]
    },
    {
     "name": "stderr",
     "output_type": "stream",
     "text": [
      "100  945k  100  472k  100  472k   105k   105k  0:00:04  0:00:04 --:--:--  211k\n",
      "  % Total    % Received % Xferd  Average Speed   Time    Time     Time  Current\n",
      "                                 Dload  Upload   Total   Spent    Left  Speed\n",
      "100  721k  100  360k  100  361k  81675  81776  0:00:04  0:00:04 --:--:--  161k\n"
     ]
    },
    {
     "name": "stdout",
     "output_type": "stream",
     "text": [
      "/Users/pqh443/Documents/Git_projects/GPRC_peptide_benchmarking/tournament_benchmark/gpcr_tournament/bkrb1_tournament/bkrb1_tournament.pdb - GRNs: ['1.28', '2.53', '2.60', '2.63', '2.67', '23.49', '3.28', '3.29', '3.30', '3.32', '3.33', '3.34', '3.35', '3.36', '4.61', '4.65', '45.50', '45.51', '45.52', '5.33', '5.36', '5.39', '5.43', '6.48', '6.51', '6.58', '6.61', '6.62', '6.63', '6.64', '7.27', '7.28', '7.31', '7.32', '7.34', '7.35', '7.37', '7.38', '7.39', '7.41', '7.42']\n",
      "Processing /Users/pqh443/Documents/Git_projects/GPRC_peptide_benchmarking/tournament_benchmark/gpcr_tournament/ccr6_tournament/ccr6_tournament.pdb, 57/124\n"
     ]
    },
    {
     "name": "stderr",
     "output_type": "stream",
     "text": [
      "  % Total    % Received % Xferd  Average Speed   Time    Time     Time  Current\n",
      "                                 Dload  Upload   Total   Spent    Left  Speed\n",
      "100  398k    0     0  100  398k      0  92483  0:00:04  0:00:04 --:--:-- 92473"
     ]
    },
    {
     "name": "stdout",
     "output_type": "stream",
     "text": [
      "/Users/pqh443/Documents/Git_projects/GPRC_peptide_benchmarking/tournament_benchmark/gpcr_tournament/ccr6_tournament/ccr6_tournament.pdb - GRNs: ['1.25', '1.27', '1.28', '1.31', '2.64', '45.50', '45.51', '45.52', '5.32', '5.33', '5.36', '6.55', '6.58', '6.61', '6.62', '6.63', '6.64', '6.65', '7.23', '7.24', '7.25', '7.27', '7.30', '7.31', '7.34', '7.35']\n",
      "Processing /Users/pqh443/Documents/Git_projects/GPRC_peptide_benchmarking/tournament_benchmark/gpcr_tournament/cxcr1_tournament/cxcr1_tournament.pdb, 58/124\n"
     ]
    },
    {
     "name": "stderr",
     "output_type": "stream",
     "text": [
      "100  796k  100  397k  100  398k  87019  87117  0:00:04  0:00:04 --:--:--  153k\n",
      "  % Total    % Received % Xferd  Average Speed   Time    Time     Time  Current\n",
      "                                 Dload  Upload   Total   Spent    Left  Speed\n",
      " 61 1017k   21  111k  100  509k  17731  80771  0:00:29  0:00:06  0:00:23 28084"
     ]
    },
    {
     "name": "stdout",
     "output_type": "stream",
     "text": [
      "/Users/pqh443/Documents/Git_projects/GPRC_peptide_benchmarking/tournament_benchmark/gpcr_tournament/cxcr1_tournament/cxcr1_tournament.pdb - GRNs: ['1.29', '1.32', '1.39', '2.63', '2.64', '2.65', '2.66', '23.49', '3.32', '45.50', '45.51', '45.52', '5.31', '5.32', '5.33', '5.36', '5.40', '6.51', '6.55', '6.58', '6.61', '6.62', '6.64', '7.23', '7.24', '7.25', '7.26', '7.27', '7.28', '7.30', '7.31', '7.34', '7.35', '7.36', '7.37', '7.38', '7.39', '7.42']\n",
      "Processing /Users/pqh443/Documents/Git_projects/GPRC_peptide_benchmarking/tournament_benchmark/gpcr_tournament/oprk_tournament/oprk_tournament.pdb, 59/124\n"
     ]
    },
    {
     "name": "stderr",
     "output_type": "stream",
     "text": [
      "100 1017k  100  508k  100  509k  79497  79567  0:00:06  0:00:06 --:--:--  160k\n",
      "  % Total    % Received % Xferd  Average Speed   Time    Time     Time  Current\n",
      "                                 Dload  Upload   Total   Spent    Left  Speed\n",
      "100  415k    0     0  100  415k      0  62578  0:00:06  0:00:06 --:--:--     0"
     ]
    },
    {
     "name": "stdout",
     "output_type": "stream",
     "text": [
      "/Users/pqh443/Documents/Git_projects/GPRC_peptide_benchmarking/tournament_benchmark/gpcr_tournament/oprk_tournament/oprk_tournament.pdb - GRNs: ['-5.46', '1.35', '1.39', '2.60', '2.63', '2.64', '2.67', '3.29', '3.30', '3.32', '3.33', '3.35', '3.36', '3.37', '3.40', '4.59', '4.60', '4.61', '4.63', '4.64', '45.50', '45.51', '45.52', '5.31', '5.32', '5.33', '5.34', '5.35', '5.36', '5.37', '5.39', '5.40', '5.43', '6.48', '6.51', '6.52', '6.54', '6.55', '6.56', '6.58', '6.59', '7.27', '7.28', '7.31', '7.34', '7.35', '7.37', '7.38', '7.41', '7.42']\n",
      "Processing /Users/pqh443/Documents/Git_projects/GPRC_peptide_benchmarking/tournament_benchmark/gpcr_tournament/ox2r_tournament/ox2r_tournament.pdb, 60/124\n"
     ]
    },
    {
     "name": "stderr",
     "output_type": "stream",
     "text": [
      "100  831k  100  415k  100  415k  60452  60517  0:00:07  0:00:07 --:--:--  120k\n",
      "  % Total    % Received % Xferd  Average Speed   Time    Time     Time  Current\n",
      "                                 Dload  Upload   Total   Spent    Left  Speed\n",
      "100  347k    0     0  100  347k      0  80627  0:00:04  0:00:04 --:--:-- 80629"
     ]
    },
    {
     "name": "stdout",
     "output_type": "stream",
     "text": [
      "/Users/pqh443/Documents/Git_projects/GPRC_peptide_benchmarking/tournament_benchmark/gpcr_tournament/ox2r_tournament/ox2r_tournament.pdb - GRNs: []\n",
      "Processing /Users/pqh443/Documents/Git_projects/GPRC_peptide_benchmarking/tournament_benchmark/gpcr_tournament/mchr1_tournament/mchr1_tournament.pdb, 61/124\n"
     ]
    },
    {
     "name": "stderr",
     "output_type": "stream",
     "text": [
      "100  694k  100  346k  100  347k  68303  68391  0:00:05  0:00:05 --:--:-- 93490\n",
      "  % Total    % Received % Xferd  Average Speed   Time    Time     Time  Current\n",
      "                                 Dload  Upload   Total   Spent    Left  Speed\n",
      "100 1286k  100  643k  100  643k   104k   104k  0:00:06  0:00:06 --:--:--  184k\n"
     ]
    },
    {
     "name": "stdout",
     "output_type": "stream",
     "text": [
      "/Users/pqh443/Documents/Git_projects/GPRC_peptide_benchmarking/tournament_benchmark/gpcr_tournament/mchr1_tournament/mchr1_tournament.pdb - GRNs: []\n",
      "Processing /Users/pqh443/Documents/Git_projects/GPRC_peptide_benchmarking/tournament_benchmark/gpcr_tournament/npff2_tournament/npff2_tournament.pdb, 62/124\n"
     ]
    },
    {
     "name": "stderr",
     "output_type": "stream",
     "text": [
      "  % Total    % Received % Xferd  Average Speed   Time    Time     Time  Current\n",
      "                                 Dload  Upload   Total   Spent    Left  Speed\n",
      "100 1224k  100  612k  100  612k  71388  71441  0:00:08  0:00:08 --:--:--  147k\n"
     ]
    },
    {
     "name": "stdout",
     "output_type": "stream",
     "text": [
      "/Users/pqh443/Documents/Git_projects/GPRC_peptide_benchmarking/tournament_benchmark/gpcr_tournament/npff2_tournament/npff2_tournament.pdb - GRNs: ['-2.55', '-5.46', '2.56', '2.59', '2.60', '2.63', '2.64', '2.67', '23.50', '3.24', '3.25', '3.26', '3.28', '3.29', '3.30', '3.32', '3.33', '3.34', '3.36', '3.37', '4.57', '4.61', '4.65', '45.50', '45.51', '45.52', '5.35', '5.36', '5.37', '5.39', '5.40', '5.41', '5.43', '6.48', '6.51', '6.52', '6.55', '6.58', '6.59', '7.27', '7.28', '7.29', '7.30', '7.31', '7.34', '7.35', '7.38', '7.41', '7.42']\n",
      "Processing /Users/pqh443/Documents/Git_projects/GPRC_peptide_benchmarking/tournament_benchmark/gpcr_tournament/lgr4_tournament/lgr4_tournament.pdb, 63/124\n"
     ]
    },
    {
     "name": "stderr",
     "output_type": "stream",
     "text": [
      "  % Total    % Received % Xferd  Average Speed   Time    Time     Time  Current\n",
      "                                 Dload  Upload   Total   Spent    Left  Speed\n",
      "100 1568k  100  784k  100  784k  90025  90076  0:00:08  0:00:08 --:--:--  230k\n"
     ]
    },
    {
     "name": "stdout",
     "output_type": "stream",
     "text": [
      "/Users/pqh443/Documents/Git_projects/GPRC_peptide_benchmarking/tournament_benchmark/gpcr_tournament/lgr4_tournament/lgr4_tournament.pdb - GRNs: []\n",
      "Processing /Users/pqh443/Documents/Git_projects/GPRC_peptide_benchmarking/tournament_benchmark/gpcr_tournament/rl3r1_tournament/rl3r1_tournament.pdb, 64/124\n"
     ]
    },
    {
     "name": "stderr",
     "output_type": "stream",
     "text": [
      "  % Total    % Received % Xferd  Average Speed   Time    Time     Time  Current\n",
      "                                 Dload  Upload   Total   Spent    Left  Speed\n",
      "100  605k    0     0  100  605k      0   108k  0:00:05  0:00:05 --:--:-- 68739"
     ]
    },
    {
     "name": "stdout",
     "output_type": "stream",
     "text": [
      "/Users/pqh443/Documents/Git_projects/GPRC_peptide_benchmarking/tournament_benchmark/gpcr_tournament/rl3r1_tournament/rl3r1_tournament.pdb - GRNs: ['1.29', '1.32', '1.35', '1.39', '2.53', '2.60', '2.63', '2.64', '2.65', '2.66', '23.49', '23.50', '3.29', '3.32', '3.33', '3.36', '45.50', '45.51', '45.52', '5.32', '5.33', '5.36', '5.39', '5.40', '5.43', '6.48', '6.51', '6.52', '6.55', '6.58', '6.61', '6.62', '7.23', '7.24', '7.26', '7.27', '7.28', '7.29', '7.30', '7.31', '7.32', '7.34', '7.35', '7.36', '7.37', '7.38', '7.39', '7.41', '7.42']\n",
      "Processing /Users/pqh443/Documents/Git_projects/GPRC_peptide_benchmarking/tournament_benchmark/gpcr_tournament/oprx_tournament/oprx_tournament.pdb, 65/124\n"
     ]
    },
    {
     "name": "stderr",
     "output_type": "stream",
     "text": [
      "100 1209k  100  604k  100  605k    98k    98k  0:00:06  0:00:06 --:--:--  131k\n",
      "  % Total    % Received % Xferd  Average Speed   Time    Time     Time  Current\n",
      "                                 Dload  Upload   Total   Spent    Left  Speed\n",
      "100  320k    0     0  100  320k      0  74757  0:00:04  0:00:04 --:--:-- 74758"
     ]
    },
    {
     "name": "stdout",
     "output_type": "stream",
     "text": [
      "/Users/pqh443/Documents/Git_projects/GPRC_peptide_benchmarking/tournament_benchmark/gpcr_tournament/oprx_tournament/oprx_tournament.pdb - GRNs: ['4.47', '4.51']\n",
      "Processing /Users/pqh443/Documents/Git_projects/GPRC_peptide_benchmarking/tournament_benchmark/gpcr_tournament/xcr1_tournament/xcr1_tournament.pdb, 66/124\n"
     ]
    },
    {
     "name": "stderr",
     "output_type": "stream",
     "text": [
      "100  640k  100  319k  100  320k  65376  65467  0:00:05  0:00:05 --:--:--  129k\n",
      "  % Total    % Received % Xferd  Average Speed   Time    Time     Time  Current\n",
      "                                 Dload  Upload   Total   Spent    Left  Speed\n",
      "100  754k  100  377k  100  377k  77881  77973  0:00:04  0:00:04 --:--:--  106k\n"
     ]
    },
    {
     "name": "stdout",
     "output_type": "stream",
     "text": [
      "/Users/pqh443/Documents/Git_projects/GPRC_peptide_benchmarking/tournament_benchmark/gpcr_tournament/xcr1_tournament/xcr1_tournament.pdb - GRNs: ['1.24', '1.25', '1.26', '1.28', '1.39', '2.60', '2.63', '2.64', '23.50', '3.29', '3.32', '3.33', '3.36', '3.37', '4.60', '4.64', '45.50', '45.51', '45.52', '5.36', '5.39', '5.40', '5.41', '5.43', '6.51', '6.55', '6.58', '6.61', '6.62', '6.63', '6.64', '7.23', '7.24', '7.25', '7.27', '7.28', '7.31', '7.34', '7.38', '7.42']\n",
      "Processing /Users/pqh443/Documents/Git_projects/GPRC_peptide_benchmarking/tournament_benchmark/gpcr_tournament/mrgx2_tournament/mrgx2_tournament.pdb, 67/124\n"
     ]
    },
    {
     "name": "stderr",
     "output_type": "stream",
     "text": [
      "  % Total    % Received % Xferd  Average Speed   Time    Time     Time  Current\n",
      "                                 Dload  Upload   Total   Spent    Left  Speed\n",
      "100  266k    0     0  100  266k      0  67974  0:00:04  0:00:04 --:--:-- 67983"
     ]
    },
    {
     "name": "stdout",
     "output_type": "stream",
     "text": [
      "/Users/pqh443/Documents/Git_projects/GPRC_peptide_benchmarking/tournament_benchmark/gpcr_tournament/mrgx2_tournament/mrgx2_tournament.pdb - GRNs: ['5.33', '5.37', '6.57', '6.58', '6.59', '6.60', '6.61', '6.62', '7.29', '7.33']\n",
      "Processing /Users/pqh443/Documents/Git_projects/GPRC_peptide_benchmarking/tournament_benchmark/gpcr_tournament/ednrb_tournament/ednrb_tournament.pdb, 68/124\n"
     ]
    },
    {
     "name": "stderr",
     "output_type": "stream",
     "text": [
      "100  533k  100  266k  100  266k  64439  64547  0:00:04  0:00:04 --:--:--  125k\n",
      "  % Total    % Received % Xferd  Average Speed   Time    Time     Time  Current\n",
      "                                 Dload  Upload   Total   Spent    Left  Speed\n",
      "100  409k    0     0  100  409k      0  94874  0:00:04  0:00:04 --:--:-- 94875"
     ]
    },
    {
     "name": "stdout",
     "output_type": "stream",
     "text": [
      "/Users/pqh443/Documents/Git_projects/GPRC_peptide_benchmarking/tournament_benchmark/gpcr_tournament/ednrb_tournament/ednrb_tournament.pdb - GRNs: ['-5.46', '1.23', '1.24', '1.25', '1.26', '1.27', '1.32', '2.53', '2.56', '2.59', '2.60', '2.63', '2.64', '2.66', '23.49', '23.50', '3.25', '3.28', '3.29', '3.32', '3.33', '3.36', '4.61', '4.65', '45.50', '45.51', '45.52', '5.36', '5.37', '5.39', '5.40', '5.43', '6.48', '6.51', '6.52', '6.54', '6.55', '6.58', '6.59', '6.62', '7.23', '7.24', '7.26', '7.27', '7.28', '7.29', '7.30', '7.31', '7.32', '7.33', '7.34', '7.35', '7.36', '7.37', '7.38', '7.41']\n",
      "Processing /Users/pqh443/Documents/Git_projects/GPRC_peptide_benchmarking/tournament_benchmark/gpcr_tournament/ccr5_tournament/ccr5_tournament.pdb, 69/124\n"
     ]
    },
    {
     "name": "stderr",
     "output_type": "stream",
     "text": [
      "100  818k  100  408k  100  409k  83551  83643  0:00:05  0:00:05 --:--:--  132k\n",
      "  % Total    % Received % Xferd  Average Speed   Time    Time     Time  Current\n",
      "                                 Dload  Upload   Total   Spent    Left  Speed\n",
      "100  384k    0     0  100  384k      0  88781  0:00:04  0:00:04 --:--:-- 88768"
     ]
    },
    {
     "name": "stdout",
     "output_type": "stream",
     "text": [
      "/Users/pqh443/Documents/Git_projects/GPRC_peptide_benchmarking/tournament_benchmark/gpcr_tournament/ccr5_tournament/ccr5_tournament.pdb - GRNs: ['1.24', '1.27', '1.28', '1.29', '1.31', '1.35', '1.39', '2.53', '2.56', '2.57', '2.59', '2.60', '2.61', '2.63', '2.64', '2.66', '3.28', '3.29', '3.32', '3.33', '4.65', '45.50', '45.51', '45.52', '5.32', '5.33', '5.36', '5.39', '5.40', '5.43', '6.51', '6.55', '6.58', '6.59', '6.61', '6.62', '7.23', '7.24', '7.25', '7.26', '7.27', '7.28', '7.31', '7.34', '7.35', '7.36', '7.38', '7.39', '7.42']\n",
      "Processing /Users/pqh443/Documents/Git_projects/GPRC_peptide_benchmarking/tournament_benchmark/gpcr_tournament/cxcr2_tournament/cxcr2_tournament.pdb, 70/124\n"
     ]
    },
    {
     "name": "stderr",
     "output_type": "stream",
     "text": [
      "100  769k  100  384k  100  384k  83253  83350  0:00:04  0:00:04 --:--:--  164k\n",
      "  % Total    % Received % Xferd  Average Speed   Time    Time     Time  Current\n",
      "                                 Dload  Upload   Total   Spent    Left  Speed\n",
      "100  413k    0     0  100  413k      0  94747  0:00:04  0:00:04 --:--:-- 94744"
     ]
    },
    {
     "name": "stdout",
     "output_type": "stream",
     "text": [
      "/Users/pqh443/Documents/Git_projects/GPRC_peptide_benchmarking/tournament_benchmark/gpcr_tournament/cxcr2_tournament/cxcr2_tournament.pdb - GRNs: ['1.39', '2.53', '2.60', '2.63', '2.64', '23.50', '3.28', '3.29', '3.32', '3.33', '3.36', '4.65', '45.50', '45.51', '45.52', '5.31', '5.32', '5.33', '5.34', '5.36', '5.40', '5.43', '6.48', '6.51', '6.55', '6.58', '6.61', '6.62', '6.64', '7.23', '7.24', '7.25', '7.27', '7.28', '7.30', '7.31', '7.34', '7.35', '7.38', '7.42']\n",
      "Processing /Users/pqh443/Documents/Git_projects/GPRC_peptide_benchmarking/tournament_benchmark/gpcr_tournament/mc5r_tournament/mc5r_tournament.pdb, 71/124\n"
     ]
    },
    {
     "name": "stderr",
     "output_type": "stream",
     "text": [
      "100  825k  100  412k  100  413k  82323  82412  0:00:05  0:00:05 --:--:--  112k\n",
      "  % Total    % Received % Xferd  Average Speed   Time    Time     Time  Current\n",
      "                                 Dload  Upload   Total   Spent    Left  Speed\n",
      "100  343k    0     0  100  343k      0  79787  0:00:04  0:00:04 --:--:-- 79803"
     ]
    },
    {
     "name": "stdout",
     "output_type": "stream",
     "text": [
      "/Users/pqh443/Documents/Git_projects/GPRC_peptide_benchmarking/tournament_benchmark/gpcr_tournament/mc5r_tournament/mc5r_tournament.pdb - GRNs: ['1.35', '1.36', '1.39', '2.57', '2.58', '2.59', '2.60', '2.61', '2.62', '2.63', '2.64', '2.67', '2.68', '3.18', '3.19', '3.21', '3.22', '3.23', '3.24', '3.25', '3.26', '3.28', '3.29', '3.30', '3.32', '3.33', '3.36', '4.58', '4.59', '4.60', '4.61', '4.62', '4.63', '4.64', '5.36', '5.39', '5.40', '5.43', '6.51', '6.54', '6.55', '6.58', '7.34', '7.35', '7.38', '7.42']\n",
      "Processing /Users/pqh443/Documents/Git_projects/GPRC_peptide_benchmarking/tournament_benchmark/gpcr_tournament/bkrb2_tournament/bkrb2_tournament.pdb, 72/124\n"
     ]
    },
    {
     "name": "stderr",
     "output_type": "stream",
     "text": [
      "100  687k  100  343k  100  343k  75874  75973  0:00:04  0:00:04 --:--:--  148k\n",
      "  % Total    % Received % Xferd  Average Speed   Time    Time     Time  Current\n",
      "                                 Dload  Upload   Total   Spent    Left  Speed\n",
      "100  345k    0     0  100  345k      0  50047  0:00:07  0:00:07 --:--:--     0"
     ]
    },
    {
     "name": "stdout",
     "output_type": "stream",
     "text": [
      "/Users/pqh443/Documents/Git_projects/GPRC_peptide_benchmarking/tournament_benchmark/gpcr_tournament/bkrb2_tournament/bkrb2_tournament.pdb - GRNs: []\n",
      "Processing /Users/pqh443/Documents/Git_projects/GPRC_peptide_benchmarking/tournament_benchmark/gpcr_tournament/ssr2_tournament/ssr2_tournament.pdb, 73/124\n"
     ]
    },
    {
     "name": "stderr",
     "output_type": "stream",
     "text": [
      "100  690k  100  345k  100  345k  48656  48719  0:00:07  0:00:07 --:--:--  102k\n",
      "  % Total    % Received % Xferd  Average Speed   Time    Time     Time  Current\n",
      "                                 Dload  Upload   Total   Spent    Left  Speed\n",
      "100  870k  100  435k  100  435k  78973  79054  0:00:05  0:00:05 --:--:--  103k\n"
     ]
    },
    {
     "name": "stdout",
     "output_type": "stream",
     "text": [
      "/Users/pqh443/Documents/Git_projects/GPRC_peptide_benchmarking/tournament_benchmark/gpcr_tournament/ssr2_tournament/ssr2_tournament.pdb - GRNs: ['1.39', '2.53', '2.60', '2.63', '3.29', '3.32', '3.33', '3.35', '3.36', '3.37', '4.61', '45.50', '45.51', '45.52', '5.32', '5.33', '5.35', '5.36', '5.37', '5.39', '5.40', '5.43', '5.44', '6.48', '6.51', '6.52', '6.54', '6.55', '6.58', '6.59', '6.60', '6.61', '7.27', '7.30', '7.31', '7.32', '7.34', '7.35', '7.38', '7.41', '7.42']\n",
      "Processing /Users/pqh443/Documents/Git_projects/GPRC_peptide_benchmarking/tournament_benchmark/gpcr_tournament/c5ar1_tournament/c5ar1_tournament.pdb, 74/124\n"
     ]
    },
    {
     "name": "stderr",
     "output_type": "stream",
     "text": [
      "  % Total    % Received % Xferd  Average Speed   Time    Time     Time  Current\n",
      "                                 Dload  Upload   Total   Spent    Left  Speed\n",
      "100  478k    0     0  100  478k      0  76605  0:00:06  0:00:06 --:--:--     0"
     ]
    },
    {
     "name": "stdout",
     "output_type": "stream",
     "text": [
      "/Users/pqh443/Documents/Git_projects/GPRC_peptide_benchmarking/tournament_benchmark/gpcr_tournament/c5ar1_tournament/c5ar1_tournament.pdb - GRNs: ['1.29', '1.35', '1.39', '2.60', '2.61', '2.63', '2.64', '23.50', '3.28', '3.29', '3.30', '3.32', '3.33', '3.36', '3.37', '4.61', '4.64', '4.65', '45.50', '45.51', '45.52', '5.32', '5.33', '5.36', '5.39', '5.40', '5.43', '6.50', '6.51', '6.52', '6.54', '6.55', '6.56', '6.57', '6.58', '6.59', '6.60', '6.61', '7.25', '7.27', '7.28', '7.30', '7.31', '7.32', '7.33', '7.34', '7.35', '7.36', '7.37', '7.38', '7.39', '7.42']\n",
      "Processing /Users/pqh443/Documents/Git_projects/GPRC_peptide_benchmarking/tournament_benchmark/gpcr_tournament/ur2r_tournament/ur2r_tournament.pdb, 75/124\n"
     ]
    },
    {
     "name": "stderr",
     "output_type": "stream",
     "text": [
      "100  955k  100  477k  100  478k  73717  73787  0:00:06  0:00:06 --:--:--  146k\n",
      "  % Total    % Received % Xferd  Average Speed   Time    Time     Time  Current\n",
      "                                 Dload  Upload   Total   Spent    Left  Speed\n",
      "100  602k  100  301k  100  301k  61962  62053  0:00:04  0:00:04 --:--:-- 90248\n"
     ]
    },
    {
     "name": "stdout",
     "output_type": "stream",
     "text": [
      "/Users/pqh443/Documents/Git_projects/GPRC_peptide_benchmarking/tournament_benchmark/gpcr_tournament/ur2r_tournament/ur2r_tournament.pdb - GRNs: ['2.53', '2.56', '2.59', '2.60', '2.61', '2.63', '2.64', '2.65', '2.66', '23.49', '23.50', '23.52', '3.24', '3.25', '3.28', '3.29', '3.32', '3.33', '3.36', '4.65', '45.50', '45.51', '45.52', '5.36', '5.40', '6.48', '6.51', '6.52', '6.54', '6.55', '6.59', '7.27', '7.30', '7.31', '7.34', '7.35', '7.37', '7.38', '7.41', '7.42']\n",
      "Processing /Users/pqh443/Documents/Git_projects/GPRC_peptide_benchmarking/tournament_benchmark/gpcr_tournament/ccr10_tournament/ccr10_tournament.pdb, 76/124\n"
     ]
    },
    {
     "name": "stderr",
     "output_type": "stream",
     "text": [
      "  % Total    % Received % Xferd  Average Speed   Time    Time     Time  Current\n",
      "                                 Dload  Upload   Total   Spent    Left  Speed\n",
      "100  519k    0     0  100  519k      0  79491  0:00:06  0:00:06 --:--:--     0"
     ]
    },
    {
     "name": "stdout",
     "output_type": "stream",
     "text": [
      "/Users/pqh443/Documents/Git_projects/GPRC_peptide_benchmarking/tournament_benchmark/gpcr_tournament/ccr10_tournament/ccr10_tournament.pdb - GRNs: ['1.29', '1.31', '1.34', '1.35', '2.59', '2.60', '2.63', '23.50', '3.25', '3.28', '3.29', '3.32', '3.33', '3.36', '4.65', '45.50', '45.51', '45.52', '5.36', '5.43', '6.51', '6.55', '6.57', '6.58', '6.59', '6.61', '6.62', '6.63', '6.64', '6.65', '7.23', '7.24', '7.25', '7.27', '7.28', '7.30', '7.31', '7.33', '7.34', '7.35', '7.36', '7.37', '7.38', '7.39', '7.42']\n",
      "Processing /Users/pqh443/Documents/Git_projects/GPRC_peptide_benchmarking/tournament_benchmark/gpcr_tournament/mrgx1_tournament/mrgx1_tournament.pdb, 77/124\n"
     ]
    },
    {
     "name": "stderr",
     "output_type": "stream",
     "text": [
      "100 1038k  100  519k  100  519k  76838  76904  0:00:06  0:00:06 --:--:--  154k\n",
      "  % Total    % Received % Xferd  Average Speed   Time    Time     Time  Current\n",
      "                                 Dload  Upload   Total   Spent    Left  Speed\n",
      "100  526k  100  263k  100  263k  66224  66337  0:00:04  0:00:04 --:--:--  129k\n"
     ]
    },
    {
     "name": "stdout",
     "output_type": "stream",
     "text": [
      "/Users/pqh443/Documents/Git_projects/GPRC_peptide_benchmarking/tournament_benchmark/gpcr_tournament/mrgx1_tournament/mrgx1_tournament.pdb - GRNs: ['1.32', '2.60', '2.64', '3.25', '3.26', '3.27', '3.28', '3.29', '3.30', '4.60', '4.61', '4.64', '5.36', '5.40', '6.54', '6.55', '6.58', '6.59', '7.30', '7.31', '7.34', '7.35']\n",
      "Processing /Users/pqh443/Documents/Git_projects/GPRC_peptide_benchmarking/tournament_benchmark/gpcr_tournament/ednra_tournament/ednra_tournament.pdb, 78/124\n"
     ]
    },
    {
     "name": "stderr",
     "output_type": "stream",
     "text": [
      "  % Total    % Received % Xferd  Average Speed   Time    Time     Time  Current\n",
      "                                 Dload  Upload   Total   Spent    Left  Speed\n",
      "100  338k    0     0  100  338k      0  78895  0:00:04  0:00:04 --:--:-- 78896"
     ]
    },
    {
     "name": "stdout",
     "output_type": "stream",
     "text": [
      "/Users/pqh443/Documents/Git_projects/GPRC_peptide_benchmarking/tournament_benchmark/gpcr_tournament/ednra_tournament/ednra_tournament.pdb - GRNs: ['-5.46', '1.22', '1.23', '1.24', '1.25', '1.26', '1.27', '1.32', '2.53', '2.56', '2.59', '2.60', '2.63', '2.64', '2.66', '23.49', '23.50', '3.25', '3.28', '3.29', '3.32', '3.33', '3.36', '4.61', '4.65', '45.50', '45.51', '45.52', '5.36', '5.37', '5.39', '5.40', '5.43', '6.48', '6.51', '6.52', '6.54', '6.55', '6.58', '6.62', '7.23', '7.24', '7.26', '7.27', '7.28', '7.29', '7.30', '7.31', '7.32', '7.33', '7.34', '7.35', '7.36', '7.37', '7.38', '7.41']\n",
      "Processing /Users/pqh443/Documents/Git_projects/GPRC_peptide_benchmarking/tournament_benchmark/gpcr_tournament/glp2r_tournament/glp2r_tournament.pdb, 79/124\n"
     ]
    },
    {
     "name": "stderr",
     "output_type": "stream",
     "text": [
      "100  676k  100  338k  100  338k  72545  72641  0:00:04  0:00:04 --:--:--  121k\n",
      "  % Total    % Received % Xferd  Average Speed   Time    Time     Time  Current\n",
      "                                 Dload  Upload   Total   Spent    Left  Speed\n",
      "100  460k    0     0  100  460k      0   107k  0:00:04  0:00:04 --:--:--  107k"
     ]
    },
    {
     "name": "stdout",
     "output_type": "stream",
     "text": [
      "/Users/pqh443/Documents/Git_projects/GPRC_peptide_benchmarking/tournament_benchmark/gpcr_tournament/glp2r_tournament/glp2r_tournament.pdb - GRNs: ['1.27', '1.28', '1.29', '1.30', '1.31', '1.32', '1.33', '1.34', '1.35', '1.36', '1.37', '1.38', '1.39', '1.40', '1.41', '1.43', '1.47', '2.60', '2.64', '2.67', '2.68', '2.71', '2.72', '2.75', '3.33', '3.36', '3.37', '3.40', '3.41', '3.44', '45.50', '45.51', '45.52', '5.37', '5.39', '5.40', '5.43', '6.53', '7.31', '7.34', '7.35', '7.37', '7.38', '7.41', '7.42', '7.45']\n",
      "Processing /Users/pqh443/Documents/Git_projects/GPRC_peptide_benchmarking/tournament_benchmark/gpcr_tournament/ccr8_tournament/ccr8_tournament.pdb, 80/124\n"
     ]
    },
    {
     "name": "stderr",
     "output_type": "stream",
     "text": [
      "100  921k  100  460k  100  460k  91842  91931  0:00:05  0:00:05 --:--:--  187k\n",
      "  % Total    % Received % Xferd  Average Speed   Time    Time     Time  Current\n",
      "                                 Dload  Upload   Total   Spent    Left  Speed\n",
      "100  532k    0     0  100  532k      0   100k  0:00:05  0:00:05 --:--:--  100k"
     ]
    },
    {
     "name": "stdout",
     "output_type": "stream",
     "text": [
      "/Users/pqh443/Documents/Git_projects/GPRC_peptide_benchmarking/tournament_benchmark/gpcr_tournament/ccr8_tournament/ccr8_tournament.pdb - GRNs: ['1.29', '1.32', '1.35', '1.39', '2.56', '2.59', '2.60', '2.62', '2.63', '2.64', '2.65', '2.66', '23.49', '23.50', '3.24', '3.25', '3.26', '3.27', '3.28', '3.29', '3.30', '3.32', '3.33', '3.36', '4.65', '45.50', '45.51', '45.52', '5.33', '5.36', '5.43', '6.51', '6.55', '6.58', '6.61', '6.62', '6.64', '7.23', '7.24', '7.25', '7.27', '7.30', '7.31', '7.32', '7.34', '7.35', '7.38', '7.42']\n",
      "Processing /Users/pqh443/Documents/Git_projects/GPRC_peptide_benchmarking/tournament_benchmark/gpcr_tournament/npff1_tournament/npff1_tournament.pdb, 81/124\n"
     ]
    },
    {
     "name": "stderr",
     "output_type": "stream",
     "text": [
      "100 1064k  100  532k  100  532k  97708  97790  0:00:05  0:00:05 --:--:--  129k\n",
      "  % Total    % Received % Xferd  Average Speed   Time    Time     Time  Current\n",
      "                                 Dload  Upload   Total   Spent    Left  Speed\n",
      "100  334k    0     0  100  334k      0  77958  0:00:04  0:00:04 --:--:-- 77970"
     ]
    },
    {
     "name": "stdout",
     "output_type": "stream",
     "text": [
      "/Users/pqh443/Documents/Git_projects/GPRC_peptide_benchmarking/tournament_benchmark/gpcr_tournament/npff1_tournament/npff1_tournament.pdb - GRNs: ['-2.55', '-5.46', '2.56', '2.59', '2.60', '2.63', '23.49', '23.50', '3.25', '3.28', '3.29', '3.32', '3.33', '3.34', '3.36', '3.37', '4.57', '4.61', '4.64', '4.65', '45.50', '45.51', '45.52', '5.35', '5.36', '5.37', '5.39', '5.40', '5.43', '6.48', '6.51', '6.52', '6.54', '6.55', '6.58', '6.59', '7.29', '7.30', '7.31', '7.34', '7.38', '7.42']\n",
      "Processing /Users/pqh443/Documents/Git_projects/GPRC_peptide_benchmarking/tournament_benchmark/gpcr_tournament/grpr_tournament/grpr_tournament.pdb, 82/124\n"
     ]
    },
    {
     "name": "stderr",
     "output_type": "stream",
     "text": [
      "100  668k  100  333k  100  334k  70993  71088  0:00:04  0:00:04 --:--:--  141k\n",
      "  % Total    % Received % Xferd  Average Speed   Time    Time     Time  Current\n",
      "                                 Dload  Upload   Total   Spent    Left  Speed\n",
      "100  424k    0     0  100  424k      0  68351  0:00:06  0:00:06 --:--:--     0"
     ]
    },
    {
     "name": "stdout",
     "output_type": "stream",
     "text": [
      "/Users/pqh443/Documents/Git_projects/GPRC_peptide_benchmarking/tournament_benchmark/gpcr_tournament/grpr_tournament/grpr_tournament.pdb - GRNs: ['-5.46', '1.31', '1.32', '1.35', '2.53', '2.56', '2.59', '2.60', '2.62', '2.63', '2.64', '2.65', '2.66', '23.49', '23.50', '3.28', '3.29', '3.30', '3.32', '3.33', '3.36', '4.61', '45.50', '45.51', '45.52', '5.36', '5.39', '5.40', '5.43', '5.44', '5.45', '5.47', '6.48', '6.51', '6.52', '6.54', '6.55', '6.56', '6.57', '6.58', '6.59', '6.60', '6.61', '7.27', '7.28', '7.29', '7.30', '7.31', '7.32', '7.34', '7.35', '7.38']\n",
      "Processing /Users/pqh443/Documents/Git_projects/GPRC_peptide_benchmarking/tournament_benchmark/gpcr_tournament/mchr2_tournament/mchr2_tournament.pdb, 83/124\n"
     ]
    },
    {
     "name": "stderr",
     "output_type": "stream",
     "text": [
      "100  848k  100  423k  100  424k  65802  65871  0:00:06  0:00:06 --:--:--  100k\n",
      "  % Total    % Received % Xferd  Average Speed   Time    Time     Time  Current\n",
      "                                 Dload  Upload   Total   Spent    Left  Speed\n",
      " 58  771k   16 65291  100  386k  10368  62785  0:00:38  0:00:06  0:00:32 13341"
     ]
    },
    {
     "name": "stdout",
     "output_type": "stream",
     "text": [
      "/Users/pqh443/Documents/Git_projects/GPRC_peptide_benchmarking/tournament_benchmark/gpcr_tournament/mchr2_tournament/mchr2_tournament.pdb - GRNs: ['1.53', '1.57', '1.60', '2.37', '2.38', '2.39', '2.40', '2.41', '2.42', '2.43', '2.44', '3.49', '3.50', '3.52', '3.53', '3.54', '3.55', '34.50', '34.51', '34.54', '34.57', '4.39', '6.29', '6.33', '6.36', '7.53', '7.54', '7.56', '8.47', '8.48', '8.49', '8.50', '8.51', '8.52', '8.53', '8.56']\n",
      "Processing /Users/pqh443/Documents/Git_projects/GPRC_peptide_benchmarking/tournament_benchmark/gpcr_tournament/gasr_tournament/gasr_tournament.pdb, 84/124\n"
     ]
    },
    {
     "name": "stderr",
     "output_type": "stream",
     "text": [
      "100  771k  100  385k  100  386k  60657  60727  0:00:06  0:00:06 --:--:-- 96173\n",
      "  % Total    % Received % Xferd  Average Speed   Time    Time     Time  Current\n",
      "                                 Dload  Upload   Total   Spent    Left  Speed\n",
      "100  356k    0     0  100  356k      0  69902  0:00:05  0:00:05 --:--:-- 69909"
     ]
    },
    {
     "name": "stdout",
     "output_type": "stream",
     "text": [
      "/Users/pqh443/Documents/Git_projects/GPRC_peptide_benchmarking/tournament_benchmark/gpcr_tournament/gasr_tournament/gasr_tournament.pdb - GRNs: ['2.64', '45.50', '45.51', '45.52', '5.36', '6.50', '6.51', '6.52', '6.54', '6.55', '6.56', '6.57', '6.58', '6.59', '6.62', '7.31', '7.33', '7.34', '7.35', '7.37', '7.38', '7.39', '7.41']\n",
      "Processing /Users/pqh443/Documents/Git_projects/GPRC_peptide_benchmarking/tournament_benchmark/gpcr_tournament/c3ar_tournament/c3ar_tournament.pdb, 85/124\n"
     ]
    },
    {
     "name": "stderr",
     "output_type": "stream",
     "text": [
      "100  711k  100  355k  100  356k  67088  67172  0:00:05  0:00:05 --:--:-- 92269\n",
      "  % Total    % Received % Xferd  Average Speed   Time    Time     Time  Current\n",
      "                                 Dload  Upload   Total   Spent    Left  Speed\n",
      "100  782k  100  391k  100  391k  75695  75782  0:00:05  0:00:05 --:--:--  100k\n"
     ]
    },
    {
     "name": "stdout",
     "output_type": "stream",
     "text": [
      "/Users/pqh443/Documents/Git_projects/GPRC_peptide_benchmarking/tournament_benchmark/gpcr_tournament/c3ar_tournament/c3ar_tournament.pdb - GRNs: ['1.32', '2.56', '2.59', '2.60', '2.61', '2.63', '2.64', '2.66', '2.67', '23.49', '23.50', '3.25', '3.28', '3.29', '3.30', '3.32', '3.33', '3.36', '4.61', '4.65', '45.50', '45.51', '45.52', '5.32', '5.33', '5.36', '5.39', '5.40', '5.43', '6.50', '6.51', '6.52', '6.53', '6.54', '6.55', '6.56', '6.58', '7.24', '7.25', '7.26', '7.27', '7.28', '7.30', '7.31', '7.32', '7.33', '7.34', '7.35', '7.36', '7.37', '7.38', '7.42']\n",
      "Processing /Users/pqh443/Documents/Git_projects/GPRC_peptide_benchmarking/tournament_benchmark/gpcr_tournament/gpr37_tournament/gpr37_tournament.pdb, 86/124\n"
     ]
    },
    {
     "name": "stderr",
     "output_type": "stream",
     "text": [
      "  % Total    % Received % Xferd  Average Speed   Time    Time     Time  Current\n",
      "                                 Dload  Upload   Total   Spent    Left  Speed\n",
      "100  463k    0     0  100  463k      0   102k  0:00:04  0:00:04 --:--:--  102k"
     ]
    },
    {
     "name": "stdout",
     "output_type": "stream",
     "text": [
      "/Users/pqh443/Documents/Git_projects/GPRC_peptide_benchmarking/tournament_benchmark/gpcr_tournament/gpr37_tournament/gpr37_tournament.pdb - GRNs: ['5.48', '5.52']\n",
      "Processing /Users/pqh443/Documents/Git_projects/GPRC_peptide_benchmarking/tournament_benchmark/gpcr_tournament/fshr_tournament/fshr_tournament.pdb, 87/124\n"
     ]
    },
    {
     "name": "stderr",
     "output_type": "stream",
     "text": [
      "100  925k  100  462k  100  463k  98493  98588  0:00:04  0:00:04 --:--:--  134k\n",
      "  % Total    % Received % Xferd  Average Speed   Time    Time     Time  Current\n",
      "                                 Dload  Upload   Total   Spent    Left  Speed\n",
      " 80 1347k   61  415k  100  673k  50877  82469  0:00:13  0:00:08  0:00:05 86885"
     ]
    },
    {
     "name": "stdout",
     "output_type": "stream",
     "text": [
      "/Users/pqh443/Documents/Git_projects/GPRC_peptide_benchmarking/tournament_benchmark/gpcr_tournament/fshr_tournament/fshr_tournament.pdb - GRNs: ['8.52']\n",
      "Processing /Users/pqh443/Documents/Git_projects/GPRC_peptide_benchmarking/tournament_benchmark/gpcr_tournament/kissr_tournament/kissr_tournament.pdb, 88/124\n"
     ]
    },
    {
     "name": "stderr",
     "output_type": "stream",
     "text": [
      "100 1347k  100  673k  100  673k  80356  80410  0:00:08  0:00:08 --:--:--  163k\n",
      "  % Total    % Received % Xferd  Average Speed   Time    Time     Time  Current\n",
      "                                 Dload  Upload   Total   Spent    Left  Speed\n",
      "100  620k  100  310k  100  310k  68031  68129  0:00:04  0:00:04 --:--:-- 97392\n"
     ]
    },
    {
     "name": "stdout",
     "output_type": "stream",
     "text": [
      "/Users/pqh443/Documents/Git_projects/GPRC_peptide_benchmarking/tournament_benchmark/gpcr_tournament/kissr_tournament/kissr_tournament.pdb - GRNs: ['1.51', '1.52', '1.53', '1.54', '1.55', '1.56', '1.57', '1.58', '1.59', '1.60', '8.56', '8.57', '8.58', '8.59']\n",
      "Processing /Users/pqh443/Documents/Git_projects/GPRC_peptide_benchmarking/tournament_benchmark/gpcr_tournament/ackr3_tournament/ackr3_tournament.pdb, 89/124\n"
     ]
    },
    {
     "name": "stderr",
     "output_type": "stream",
     "text": [
      "  % Total    % Received % Xferd  Average Speed   Time    Time     Time  Current\n",
      "                                 Dload  Upload   Total   Spent    Left  Speed\n",
      "100  328k    0     0  100  328k      0  77481  0:00:04  0:00:04 --:--:-- 77489"
     ]
    },
    {
     "name": "stdout",
     "output_type": "stream",
     "text": [
      "/Users/pqh443/Documents/Git_projects/GPRC_peptide_benchmarking/tournament_benchmark/gpcr_tournament/ackr3_tournament/ackr3_tournament.pdb - GRNs: ['1.39', '2.59', '2.60', '2.63', '2.64', '23.49', '23.50', '3.24', '3.25', '3.26', '3.28', '3.29', '3.30', '3.32', '3.33', '3.36', '4.61', '4.64', '4.65', '45.50', '45.51', '45.52', '5.32', '5.33', '5.36', '5.37', '5.40', '5.43', '6.51', '6.54', '6.58', '6.59', '6.61', '6.62', '6.63', '6.64', '7.23', '7.24', '7.26', '7.27', '7.28', '7.29', '7.30', '7.31', '7.32', '7.33', '7.34', '7.35', '7.36', '7.37', '7.38']\n",
      "Processing /Users/pqh443/Documents/Git_projects/GPRC_peptide_benchmarking/tournament_benchmark/gpcr_tournament/nk1r_tournament/nk1r_tournament.pdb, 90/124\n"
     ]
    },
    {
     "name": "stderr",
     "output_type": "stream",
     "text": [
      "100  656k  100  328k  100  328k  73522  73622  0:00:04  0:00:04 --:--:--  143k\n",
      "  % Total    % Received % Xferd  Average Speed   Time    Time     Time  Current\n",
      "                                 Dload  Upload   Total   Spent    Left  Speed\n",
      "100  352k    0     0  100  352k      0  72395  0:00:04  0:00:04 --:--:-- 72393"
     ]
    },
    {
     "name": "stdout",
     "output_type": "stream",
     "text": [
      "/Users/pqh443/Documents/Git_projects/GPRC_peptide_benchmarking/tournament_benchmark/gpcr_tournament/nk1r_tournament/nk1r_tournament.pdb - GRNs: ['2.57', '2.60', '2.61', '2.64', '2.65', '2.66', '2.67', '2.68', '23.50', '3.25', '3.28', '3.29', '3.32', '3.33', '3.36', '3.37', '4.61', '45.50', '45.51', '45.52', '5.33', '5.39', '5.40', '5.43', '6.51', '6.52', '6.54', '6.55', '6.58', '7.28', '7.30', '7.31', '7.32', '7.34', '7.35', '7.38', '7.42']\n",
      "Processing /Users/pqh443/Documents/Git_projects/GPRC_peptide_benchmarking/tournament_benchmark/gpcr_tournament/fzd6_tournament/fzd6_tournament.pdb, 91/124\n"
     ]
    },
    {
     "name": "stderr",
     "output_type": "stream",
     "text": [
      "100  705k  100  352k  100  352k  68663  68750  0:00:05  0:00:05 --:--:-- 95598\n",
      "  % Total    % Received % Xferd  Average Speed   Time    Time     Time  Current\n",
      "                                 Dload  Upload   Total   Spent    Left  Speed\n",
      "100 1461k  100  730k  100  731k   140k   140k  0:00:05  0:00:05 --:--:--  281k\n"
     ]
    },
    {
     "name": "stdout",
     "output_type": "stream",
     "text": [
      "/Users/pqh443/Documents/Git_projects/GPRC_peptide_benchmarking/tournament_benchmark/gpcr_tournament/fzd6_tournament/fzd6_tournament.pdb - GRNs: ['12.48', '12.49', '12.50', '12.51', '2.40', '2.41', '4.34', '4.35', '4.36', '4.39', '4.40', '4.41', '4.42', '4.43', '4.44', '4.45', '4.46', '4.47', '4.50', '5.76', '6.22', '6.25', '6.29', '6.32', '6.33', '7.55', '8.47', '8.49', '8.53']\n",
      "Processing /Users/pqh443/Documents/Git_projects/GPRC_peptide_benchmarking/tournament_benchmark/gpcr_tournament/pkr2_tournament/pkr2_tournament.pdb, 92/124\n"
     ]
    },
    {
     "name": "stderr",
     "output_type": "stream",
     "text": [
      "  % Total    % Received % Xferd  Average Speed   Time    Time     Time  Current\n",
      "                                 Dload  Upload   Total   Spent    Left  Speed\n",
      "100  725k  100  362k  100  362k  75103  75195  0:00:04  0:00:04 --:--:--  106k\n"
     ]
    },
    {
     "name": "stdout",
     "output_type": "stream",
     "text": [
      "/Users/pqh443/Documents/Git_projects/GPRC_peptide_benchmarking/tournament_benchmark/gpcr_tournament/pkr2_tournament/pkr2_tournament.pdb - GRNs: ['2.63', '3.29', '3.32', '45.50', '45.51', '45.52', '5.33', '5.36', '5.40', '6.51', '6.54', '6.58', '6.59', '7.27', '7.28', '7.29', '7.30', '7.31', '7.34', '7.35', '7.38']\n",
      "Processing /Users/pqh443/Documents/Git_projects/GPRC_peptide_benchmarking/tournament_benchmark/gpcr_tournament/calrl_tournament/calrl_tournament.pdb, 93/124\n"
     ]
    },
    {
     "name": "stderr",
     "output_type": "stream",
     "text": [
      "  % Total    % Received % Xferd  Average Speed   Time    Time     Time  Current\n",
      "                                 Dload  Upload   Total   Spent    Left  Speed\n",
      "100  451k    0     0  100  451k      0   119k  0:00:03  0:00:03 --:--:--  119k"
     ]
    },
    {
     "name": "stdout",
     "output_type": "stream",
     "text": [
      "/Users/pqh443/Documents/Git_projects/GPRC_peptide_benchmarking/tournament_benchmark/gpcr_tournament/calrl_tournament/calrl_tournament.pdb - GRNs: ['1.29', '1.30', '1.31', '1.32', '1.33', '1.34', '1.35', '1.36', '1.37', '1.38', '1.39', '1.40', '1.41', '1.43', '1.47', '2.64', '2.67', '2.68', '2.71', '3.33', '3.36', '3.37', '3.40', '3.44', '45.51', '45.52', '5.34', '5.35', '5.37', '5.38', '5.39', '5.40', '5.41', '5.43', '5.44', '5.47', '6.52', '6.53', '6.54', '6.56', '6.57', '6.58', '7.34', '7.37', '7.38', '7.41', '7.42', '7.45', '7.46']\n",
      "Processing /Users/pqh443/Documents/Git_projects/GPRC_peptide_benchmarking/tournament_benchmark/gpcr_tournament/fpr1_tournament/fpr1_tournament.pdb, 94/124\n"
     ]
    },
    {
     "name": "stderr",
     "output_type": "stream",
     "text": [
      "100  901k  100  450k  100  451k   108k   108k  0:00:04  0:00:04 --:--:--  216k\n",
      "  % Total    % Received % Xferd  Average Speed   Time    Time     Time  Current\n",
      "                                 Dload  Upload   Total   Spent    Left  Speed\n",
      "100  833k  100  416k  100  417k  84559  84649  0:00:05  0:00:05 --:--:--  151k\n"
     ]
    },
    {
     "name": "stdout",
     "output_type": "stream",
     "text": [
      "/Users/pqh443/Documents/Git_projects/GPRC_peptide_benchmarking/tournament_benchmark/gpcr_tournament/fpr1_tournament/fpr1_tournament.pdb - GRNs: ['1.61', '2.37', '2.39', '3.53', '3.54', '3.55', '3.56', '34.50', '34.51', '34.52', '34.53', '34.54', '34.55', '34.56', '34.57', '4.38', '5.64', '5.65', '5.67', '5.68', '5.69', '6.33', '6.34', '7.53', '7.54', '7.55', '7.56', '8.47', '8.48', '8.49', '8.50', '8.52']\n",
      "Processing /Users/pqh443/Documents/Git_projects/GPRC_peptide_benchmarking/tournament_benchmark/gpcr_tournament/prlhr_tournament/prlhr_tournament.pdb, 95/124\n"
     ]
    },
    {
     "name": "stderr",
     "output_type": "stream",
     "text": [
      "  % Total    % Received % Xferd  Average Speed   Time    Time     Time  Current\n",
      "                                 Dload  Upload   Total   Spent    Left  Speed\n",
      "100  847k  100  423k  100  423k  53494  53550  0:00:08  0:00:08 --:--:--  111k\n"
     ]
    },
    {
     "name": "stdout",
     "output_type": "stream",
     "text": [
      "/Users/pqh443/Documents/Git_projects/GPRC_peptide_benchmarking/tournament_benchmark/gpcr_tournament/prlhr_tournament/prlhr_tournament.pdb - GRNs: ['-5.46', '2.56', '2.59', '2.60', '2.61', '2.62', '2.63', '2.64', '2.65', '2.66', '2.67', '23.49', '23.50', '3.28', '3.29', '3.32', '3.33', '3.34', '3.35', '3.36', '3.37', '4.61', '4.64', '45.50', '45.51', '45.52', '5.36', '5.37', '5.39', '5.40', '5.43', '6.48', '6.51', '6.52', '6.54', '6.55', '6.56', '6.58', '6.59', '7.26', '7.27', '7.28', '7.30', '7.31', '7.34', '7.35', '7.38', '7.41', '7.42']\n",
      "Processing /Users/pqh443/Documents/Git_projects/GPRC_peptide_benchmarking/tournament_benchmark/gpcr_tournament/oprm_tournament/oprm_tournament.pdb, 96/124\n"
     ]
    },
    {
     "name": "stderr",
     "output_type": "stream",
     "text": [
      "  % Total    % Received % Xferd  Average Speed   Time    Time     Time  Current\n",
      "                                 Dload  Upload   Total   Spent    Left  Speed\n",
      "100  443k    0     0  100  443k      0  66138  0:00:06  0:00:06 --:--:--     0"
     ]
    },
    {
     "name": "stdout",
     "output_type": "stream",
     "text": [
      "/Users/pqh443/Documents/Git_projects/GPRC_peptide_benchmarking/tournament_benchmark/gpcr_tournament/oprm_tournament/oprm_tournament.pdb - GRNs: ['-5.46', '3.29', '3.33', '3.36', '3.37', '4.60', '45.50', '45.51', '45.52', '5.31', '5.32', '5.33', '5.34', '5.35', '5.36', '5.37', '5.38', '5.39', '5.40', '5.41', '5.43', '5.44', '6.48', '6.51', '6.52', '6.54', '6.55', '6.58', '6.59', '6.60', '6.61', '7.30', '7.34', '7.35', '7.38']\n",
      "Processing /Users/pqh443/Documents/Git_projects/GPRC_peptide_benchmarking/tournament_benchmark/gpcr_tournament/ghrhr_tournament/ghrhr_tournament.pdb, 97/124\n"
     ]
    },
    {
     "name": "stderr",
     "output_type": "stream",
     "text": [
      "100  887k  100  443k  100  443k  63411  63475  0:00:07  0:00:07 --:--:--  120k\n",
      "  % Total    % Received % Xferd  Average Speed   Time    Time     Time  Current\n",
      "                                 Dload  Upload   Total   Spent    Left  Speed\n",
      "100  386k    0     0  100  386k      0   113k  0:00:03  0:00:03 --:--:--  113k"
     ]
    },
    {
     "name": "stdout",
     "output_type": "stream",
     "text": [
      "/Users/pqh443/Documents/Git_projects/GPRC_peptide_benchmarking/tournament_benchmark/gpcr_tournament/ghrhr_tournament/ghrhr_tournament.pdb - GRNs: ['1.26', '1.27', '1.28', '1.29', '1.30', '1.32', '1.33', '1.34', '1.35', '1.36', '1.37', '1.38', '1.39', '1.40', '1.41', '1.43', '1.47', '2.60', '2.64', '2.67', '2.68', '2.70', '2.71', '2.72', '3.29', '3.33', '3.36', '3.37', '3.40', '3.44', '45.50', '45.52', '5.37', '5.40', '5.43', '5.44', '6.56', '6.57', '6.59', '7.34', '7.37', '7.38', '7.41', '7.42']\n",
      "Processing /Users/pqh443/Documents/Git_projects/GPRC_peptide_benchmarking/tournament_benchmark/gpcr_tournament/npy5r_tournament/npy5r_tournament.pdb, 98/124\n"
     ]
    },
    {
     "name": "stderr",
     "output_type": "stream",
     "text": [
      "100  772k  100  386k  100  386k   102k   102k  0:00:03  0:00:03 --:--:--  204k\n",
      "  % Total    % Received % Xferd  Average Speed   Time    Time     Time  Current\n",
      "                                 Dload  Upload   Total   Spent    Left  Speed\n",
      "100  528k    0     0  100  528k      0  89023  0:00:06  0:00:06 --:--:--     0"
     ]
    },
    {
     "name": "stdout",
     "output_type": "stream",
     "text": [
      "/Users/pqh443/Documents/Git_projects/GPRC_peptide_benchmarking/tournament_benchmark/gpcr_tournament/npy5r_tournament/npy5r_tournament.pdb - GRNs: ['-2.55', '-5.46', '2.56', '2.57', '2.59', '2.60', '2.63', '2.64', '2.67', '23.50', '3.29', '3.32', '3.33', '3.34', '3.36', '3.37', '4.57', '4.61', '4.65', '45.50', '45.51', '45.52', '5.33', '5.35', '5.36', '5.37', '5.39', '5.40', '5.41', '5.43', '5.44', '6.48', '6.51', '6.52', '6.54', '6.55', '6.57', '6.58', '6.59', '6.60', '6.61', '7.26', '7.27', '7.28', '7.29', '7.30', '7.31', '7.34', '7.38', '7.42']\n",
      "Processing /Users/pqh443/Documents/Git_projects/GPRC_peptide_benchmarking/tournament_benchmark/gpcr_tournament/apj_tournament/apj_tournament.pdb, 99/124\n"
     ]
    },
    {
     "name": "stderr",
     "output_type": "stream",
     "text": [
      "100 1056k  100  527k  100  528k  84542  84614  0:00:06  0:00:06 --:--:--  131k\n",
      "  % Total    % Received % Xferd  Average Speed   Time    Time     Time  Current\n",
      "                                 Dload  Upload   Total   Spent    Left  Speed\n",
      "100  481k    0     0  100  481k      0  97755  0:00:05  0:00:05 --:--:-- 97775"
     ]
    },
    {
     "name": "stdout",
     "output_type": "stream",
     "text": [
      "/Users/pqh443/Documents/Git_projects/GPRC_peptide_benchmarking/tournament_benchmark/gpcr_tournament/apj_tournament/apj_tournament.pdb - GRNs: ['6.54', '6.57', '6.58', '6.59', '6.61', '7.23', '7.24', '7.26', '7.27', '7.28', '7.29', '7.30', '7.31', '7.32', '7.34']\n",
      "Processing /Users/pqh443/Documents/Git_projects/GPRC_peptide_benchmarking/tournament_benchmark/gpcr_tournament/npbw1_tournament/npbw1_tournament.pdb, 100/124\n"
     ]
    },
    {
     "name": "stderr",
     "output_type": "stream",
     "text": [
      "100  962k  100  480k  100  481k  92273  92359  0:00:05  0:00:05 --:--:--  129k\n",
      "  % Total    % Received % Xferd  Average Speed   Time    Time     Time  Current\n",
      "                                 Dload  Upload   Total   Spent    Left  Speed\n",
      "100  525k  100  262k  100  262k  63584  63692  0:00:04  0:00:04 --:--:--  124k\n"
     ]
    },
    {
     "name": "stdout",
     "output_type": "stream",
     "text": [
      "/Users/pqh443/Documents/Git_projects/GPRC_peptide_benchmarking/tournament_benchmark/gpcr_tournament/npbw1_tournament/npbw1_tournament.pdb - GRNs: ['1.35', '1.39', '2.53', '2.56', '2.59', '2.60', '2.61', '2.63', '2.64', '2.65', '2.66', '23.49', '23.50', '3.25', '3.28', '3.29', '3.30', '3.31', '3.32', '3.33', '3.34', '3.35', '3.36', '3.37', '4.61', '4.65', '45.50', '45.51', '45.52', '5.32', '5.33', '5.34', '5.35', '5.36', '5.37', '5.38', '5.39', '5.40', '5.41', '5.43', '6.48', '6.50', '6.51', '6.52', '6.53', '6.54', '6.55', '6.57', '6.58', '6.59', '6.61', '7.27', '7.28', '7.29', '7.30', '7.31', '7.33', '7.34', '7.35', '7.37', '7.38', '7.40', '7.41', '7.42']\n",
      "Processing /Users/pqh443/Documents/Git_projects/GPRC_peptide_benchmarking/tournament_benchmark/gpcr_tournament/mtlr_tournament/mtlr_tournament.pdb, 101/124\n"
     ]
    },
    {
     "name": "stderr",
     "output_type": "stream",
     "text": [
      "  % Total    % Received % Xferd  Average Speed   Time    Time     Time  Current\n",
      "                                 Dload  Upload   Total   Spent    Left  Speed\n",
      "100  634k  100  316k  100  317k  63460  63549  0:00:05  0:00:05 --:--:-- 88013\n"
     ]
    },
    {
     "name": "stdout",
     "output_type": "stream",
     "text": [
      "/Users/pqh443/Documents/Git_projects/GPRC_peptide_benchmarking/tournament_benchmark/gpcr_tournament/mtlr_tournament/mtlr_tournament.pdb - GRNs: ['2.60', '2.63', '2.64', '2.67', '3.28', '3.29', '3.32', '3.33', '3.36', '4.61', '4.65', '45.50', '45.51', '45.52', '5.34', '5.37', '5.41', '6.51', '6.54', '6.55', '6.56', '6.57', '6.58', '6.59', '6.61', '7.24', '7.25', '7.26', '7.27', '7.28', '7.30', '7.31', '7.34', '7.35', '7.37', '7.38', '7.41', '7.42']\n",
      "Processing /Users/pqh443/Documents/Git_projects/GPRC_peptide_benchmarking/tournament_benchmark/gpcr_tournament/nmur1_tournament/nmur1_tournament.pdb, 102/124\n"
     ]
    },
    {
     "name": "stderr",
     "output_type": "stream",
     "text": [
      "  % Total    % Received % Xferd  Average Speed   Time    Time     Time  Current\n",
      "                                 Dload  Upload   Total   Spent    Left  Speed\n",
      "100  372k    0     0  100  372k      0  72500  0:00:05  0:00:05 --:--:-- 72505"
     ]
    },
    {
     "name": "stdout",
     "output_type": "stream",
     "text": [
      "/Users/pqh443/Documents/Git_projects/GPRC_peptide_benchmarking/tournament_benchmark/gpcr_tournament/nmur1_tournament/nmur1_tournament.pdb - GRNs: ['1.28', '1.29', '1.30', '1.31', '1.35', '1.39', '2.60', '2.63', '2.64', '2.65', '2.66', '2.67', '3.28', '3.29', '3.32', '3.33', '3.34', '3.36', '3.37', '4.61', '4.65', '45.50', '45.51', '45.52', '5.34', '5.35', '5.39', '6.50', '6.51', '6.54', '6.55', '6.56', '6.58', '6.59', '6.61', '7.24', '7.25', '7.27', '7.28', '7.30', '7.31', '7.32', '7.33', '7.34', '7.35', '7.36', '7.37', '7.38', '7.39', '7.40', '7.41', '7.42']\n",
      "Processing /Users/pqh443/Documents/Git_projects/GPRC_peptide_benchmarking/tournament_benchmark/gpcr_tournament/ccr7_tournament/ccr7_tournament.pdb, 103/124\n"
     ]
    },
    {
     "name": "stderr",
     "output_type": "stream",
     "text": [
      "100  743k  100  371k  100  372k  69023  69106  0:00:05  0:00:05 --:--:-- 92746\n",
      "  % Total    % Received % Xferd  Average Speed   Time    Time     Time  Current\n",
      "                                 Dload  Upload   Total   Spent    Left  Speed\n",
      "100  877k  100  438k  100  438k  87977  88066  0:00:05  0:00:05 --:--:--  119k\n"
     ]
    },
    {
     "name": "stdout",
     "output_type": "stream",
     "text": [
      "/Users/pqh443/Documents/Git_projects/GPRC_peptide_benchmarking/tournament_benchmark/gpcr_tournament/ccr7_tournament/ccr7_tournament.pdb - GRNs: ['1.31', '1.35', '2.60', '2.63', '23.50', '3.29', '3.32', '3.33', '4.61', '45.50', '45.51', '45.52', '5.36', '5.37', '5.40', '6.51', '6.58', '6.59', '6.60', '6.61', '6.62', '6.63', '6.64', '6.65', '7.23', '7.24', '7.25', '7.27', '7.30', '7.31', '7.32', '7.33', '7.34', '7.35', '7.38']\n",
      "Processing /Users/pqh443/Documents/Git_projects/GPRC_peptide_benchmarking/tournament_benchmark/gpcr_tournament/mc3r_tournament/mc3r_tournament.pdb, 104/124\n"
     ]
    },
    {
     "name": "stderr",
     "output_type": "stream",
     "text": [
      "  % Total    % Received % Xferd  Average Speed   Time    Time     Time  Current\n",
      "                                 Dload  Upload   Total   Spent    Left  Speed\n",
      "100  308k    0     0  100  308k      0  76491  0:00:04  0:00:04 --:--:-- 76507"
     ]
    },
    {
     "name": "stdout",
     "output_type": "stream",
     "text": [
      "/Users/pqh443/Documents/Git_projects/GPRC_peptide_benchmarking/tournament_benchmark/gpcr_tournament/mc3r_tournament/mc3r_tournament.pdb - GRNs: ['1.35', '1.36', '1.37', '1.38', '1.39', '1.40', '2.53', '2.56', '2.57', '2.58', '2.59', '2.60', '2.61', '2.62', '2.63', '2.64', '2.65', '2.66', '2.67', '2.68', '3.18', '3.19', '3.20', '3.21', '3.22', '3.24', '3.25', '3.26', '3.28', '3.29', '3.30', '3.31', '3.32', '3.33', '4.60', '4.61', '4.62', '4.63', '4.64', '5.36', '5.37', '5.40', '6.48', '6.51', '6.54', '6.55', '6.58', '7.34', '7.35', '7.38', '7.39', '7.41', '7.42']\n",
      "Processing /Users/pqh443/Documents/Git_projects/GPRC_peptide_benchmarking/tournament_benchmark/gpcr_tournament/lgr5_tournament/lgr5_tournament.pdb, 105/124\n"
     ]
    },
    {
     "name": "stderr",
     "output_type": "stream",
     "text": [
      "100  616k  100  308k  100  308k  72280  72385  0:00:04  0:00:04 --:--:--  141k\n",
      "  % Total    % Received % Xferd  Average Speed   Time    Time     Time  Current\n",
      "                                 Dload  Upload   Total   Spent    Left  Speed\n",
      " 63 1476k   25  191k  100  738k  24422  94020  0:00:30  0:00:08  0:00:22 43500"
     ]
    },
    {
     "name": "stdout",
     "output_type": "stream",
     "text": [
      "/Users/pqh443/Documents/Git_projects/GPRC_peptide_benchmarking/tournament_benchmark/gpcr_tournament/lgr5_tournament/lgr5_tournament.pdb - GRNs: []\n",
      "Processing /Users/pqh443/Documents/Git_projects/GPRC_peptide_benchmarking/tournament_benchmark/gpcr_tournament/fzd1_tournament/fzd1_tournament.pdb, 106/124\n"
     ]
    },
    {
     "name": "stderr",
     "output_type": "stream",
     "text": [
      "100 1476k  100  737k  100  738k  91402  91457  0:00:08  0:00:08 --:--:--  197k\n",
      "  % Total    % Received % Xferd  Average Speed   Time    Time     Time  Current\n",
      "                                 Dload  Upload   Total   Spent    Left  Speed\n",
      "100 1299k  100  649k  100  649k   157k   157k  0:00:04  0:00:04 --:--:--  315k\n"
     ]
    },
    {
     "name": "stdout",
     "output_type": "stream",
     "text": [
      "/Users/pqh443/Documents/Git_projects/GPRC_peptide_benchmarking/tournament_benchmark/gpcr_tournament/fzd1_tournament/fzd1_tournament.pdb - GRNs: ['12.48', '3.52', '4.34', '4.35', '4.36', '4.37', '4.38', '4.39', '4.40', '4.41', '5.71', '6.22', '6.25', '8.49', '8.56']\n",
      "Processing /Users/pqh443/Documents/Git_projects/GPRC_peptide_benchmarking/tournament_benchmark/gpcr_tournament/v2r_tournament/v2r_tournament.pdb, 107/124\n"
     ]
    },
    {
     "name": "stderr",
     "output_type": "stream",
     "text": [
      "  % Total    % Received % Xferd  Average Speed   Time    Time     Time  Current\n",
      "                                 Dload  Upload   Total   Spent    Left  Speed\n",
      "100  919k  100  459k  100  459k  89886  89973  0:00:05  0:00:05 --:--:--  119k\n"
     ]
    },
    {
     "name": "stdout",
     "output_type": "stream",
     "text": [
      "/Users/pqh443/Documents/Git_projects/GPRC_peptide_benchmarking/tournament_benchmark/gpcr_tournament/v2r_tournament/v2r_tournament.pdb - GRNs: []\n",
      "Processing /Users/pqh443/Documents/Git_projects/GPRC_peptide_benchmarking/tournament_benchmark/gpcr_tournament/ntr1_tournament/ntr1_tournament.pdb, 108/124\n"
     ]
    },
    {
     "name": "stderr",
     "output_type": "stream",
     "text": [
      "  % Total    % Received % Xferd  Average Speed   Time    Time     Time  Current\n",
      "                                 Dload  Upload   Total   Spent    Left  Speed\n",
      "100  332k    0     0  100  332k      0  69500  0:00:04  0:00:04 --:--:-- 69491"
     ]
    },
    {
     "name": "stdout",
     "output_type": "stream",
     "text": [
      "/Users/pqh443/Documents/Git_projects/GPRC_peptide_benchmarking/tournament_benchmark/gpcr_tournament/ntr1_tournament/ntr1_tournament.pdb - GRNs: ['2.63', '2.64', '2.65', '2.67', '3.28', '3.29', '3.32', '4.61', '4.64', '4.65', '45.50', '45.51', '45.52', '5.33', '5.36', '5.37', '5.40', '6.51', '6.54', '6.55', '6.56', '6.57', '6.58', '6.59', '6.60', '6.61', '7.23', '7.24', '7.25', '7.26', '7.27', '7.28', '7.30', '7.31', '7.34', '7.38']\n",
      "Processing /Users/pqh443/Documents/Git_projects/GPRC_peptide_benchmarking/tournament_benchmark/gpcr_tournament/nk2r_tournament/nk2r_tournament.pdb, 109/124\n"
     ]
    },
    {
     "name": "stderr",
     "output_type": "stream",
     "text": [
      "100  664k  100  332k  100  332k  63654  63740  0:00:05  0:00:05 --:--:-- 90559\n",
      "  % Total    % Received % Xferd  Average Speed   Time    Time     Time  Current\n",
      "                                 Dload  Upload   Total   Spent    Left  Speed\n",
      "100  519k    0     0  100  519k      0  87190  0:00:06  0:00:06 --:--:-- 53983"
     ]
    },
    {
     "name": "stdout",
     "output_type": "stream",
     "text": [
      "/Users/pqh443/Documents/Git_projects/GPRC_peptide_benchmarking/tournament_benchmark/gpcr_tournament/nk2r_tournament/nk2r_tournament.pdb - GRNs: []\n",
      "Processing /Users/pqh443/Documents/Git_projects/GPRC_peptide_benchmarking/tournament_benchmark/gpcr_tournament/ackr4_tournament/ackr4_tournament.pdb, 110/124\n"
     ]
    },
    {
     "name": "stderr",
     "output_type": "stream",
     "text": [
      "100 1038k  100  518k  100  519k  80166  80235  0:00:06  0:00:06 --:--:--  129k\n",
      "  % Total    % Received % Xferd  Average Speed   Time    Time     Time  Current\n",
      "                                 Dload  Upload   Total   Spent    Left  Speed\n",
      "100  607k    0     0  100  607k      0   114k  0:00:05  0:00:05 --:--:-- 97597"
     ]
    },
    {
     "name": "stdout",
     "output_type": "stream",
     "text": [
      "/Users/pqh443/Documents/Git_projects/GPRC_peptide_benchmarking/tournament_benchmark/gpcr_tournament/ackr4_tournament/ackr4_tournament.pdb - GRNs: ['1.27', '1.28', '1.35', '1.39', '2.60', '2.63', '2.64', '23.49', '23.50', '3.29', '3.32', '3.33', '4.65', '45.50', '45.51', '45.52', '5.36', '6.51', '6.58', '6.60', '6.61', '6.62', '6.63', '6.64', '7.23', '7.24', '7.25', '7.26', '7.27', '7.31', '7.34', '7.35', '7.38']\n",
      "Processing /Users/pqh443/Documents/Git_projects/GPRC_peptide_benchmarking/tournament_benchmark/gpcr_tournament/g37l1_tournament/g37l1_tournament.pdb, 111/124\n"
     ]
    },
    {
     "name": "stderr",
     "output_type": "stream",
     "text": [
      "100 1214k  100  607k  100  607k   106k   106k  0:00:05  0:00:05 --:--:--  151k\n",
      "  % Total    % Received % Xferd  Average Speed   Time    Time     Time  Current\n",
      "                                 Dload  Upload   Total   Spent    Left  Speed\n",
      "100  711k  100  355k  100  355k  81323  81425  0:00:04  0:00:04 --:--:--  140k\n"
     ]
    },
    {
     "name": "stdout",
     "output_type": "stream",
     "text": [
      "/Users/pqh443/Documents/Git_projects/GPRC_peptide_benchmarking/tournament_benchmark/gpcr_tournament/g37l1_tournament/g37l1_tournament.pdb - GRNs: []\n",
      "Processing /Users/pqh443/Documents/Git_projects/GPRC_peptide_benchmarking/tournament_benchmark/gpcr_tournament/gp107_tournament/gp107_tournament.pdb, 112/124\n"
     ]
    },
    {
     "name": "stderr",
     "output_type": "stream",
     "text": [
      "  % Total    % Received % Xferd  Average Speed   Time    Time     Time  Current\n",
      "                                 Dload  Upload   Total   Spent    Left  Speed\n",
      "100  541k    0     0  100  541k      0   132k  0:00:04  0:00:04 --:--:--  132k"
     ]
    },
    {
     "name": "stdout",
     "output_type": "stream",
     "text": [
      "/Users/pqh443/Documents/Git_projects/GPRC_peptide_benchmarking/tournament_benchmark/gpcr_tournament/gp107_tournament/gp107_tournament.pdb - GRNs: []\n",
      "Processing /Users/pqh443/Documents/Git_projects/GPRC_peptide_benchmarking/tournament_benchmark/gpcr_tournament/glp1r_tournament/glp1r_tournament.pdb, 113/124\n"
     ]
    },
    {
     "name": "stderr",
     "output_type": "stream",
     "text": [
      "100 1082k  100  541k  100  541k   119k   119k  0:00:04  0:00:04 --:--:--  238k\n",
      "  % Total    % Received % Xferd  Average Speed   Time    Time     Time  Current\n",
      "                                 Dload  Upload   Total   Spent    Left  Speed\n",
      "100  503k    0     0  100  503k      0   121k  0:00:04  0:00:04 --:--:--  121k"
     ]
    },
    {
     "name": "stdout",
     "output_type": "stream",
     "text": [
      "/Users/pqh443/Documents/Git_projects/GPRC_peptide_benchmarking/tournament_benchmark/gpcr_tournament/glp1r_tournament/glp1r_tournament.pdb - GRNs: []\n",
      "Processing /Users/pqh443/Documents/Git_projects/GPRC_peptide_benchmarking/tournament_benchmark/gpcr_tournament/ackr1_tournament/ackr1_tournament.pdb, 114/124\n"
     ]
    },
    {
     "name": "stderr",
     "output_type": "stream",
     "text": [
      "100 1005k  100  502k  100  503k   113k   113k  0:00:04  0:00:04 --:--:--  227k\n",
      "  % Total    % Received % Xferd  Average Speed   Time    Time     Time  Current\n",
      "                                 Dload  Upload   Total   Spent    Left  Speed\n",
      "100  722k  100  361k  100  361k   103k   103k  0:00:03  0:00:03 --:--:--  206k\n"
     ]
    },
    {
     "name": "stdout",
     "output_type": "stream",
     "text": [
      "/Users/pqh443/Documents/Git_projects/GPRC_peptide_benchmarking/tournament_benchmark/gpcr_tournament/ackr1_tournament/ackr1_tournament.pdb - GRNs: []\n",
      "Processing /Users/pqh443/Documents/Git_projects/GPRC_peptide_benchmarking/tournament_benchmark/gpcr_tournament/vipr1_tournament/vipr1_tournament.pdb, 115/124\n"
     ]
    },
    {
     "name": "stderr",
     "output_type": "stream",
     "text": [
      "  % Total    % Received % Xferd  Average Speed   Time    Time     Time  Current\n",
      "                                 Dload  Upload   Total   Spent    Left  Speed\n",
      "100  366k    0     0  100  366k      0   117k  0:00:03  0:00:03 --:--:--  117k"
     ]
    },
    {
     "name": "stdout",
     "output_type": "stream",
     "text": [
      "/Users/pqh443/Documents/Git_projects/GPRC_peptide_benchmarking/tournament_benchmark/gpcr_tournament/vipr1_tournament/vipr1_tournament.pdb - GRNs: ['1.26', '1.27', '1.28', '1.29', '1.30', '1.31', '1.32', '1.33', '1.34', '1.35', '1.36', '1.37', '1.39', '1.40', '1.41', '1.43', '1.47', '2.64', '2.67', '2.68', '2.71', '3.33', '3.36', '3.37', '3.40', '45.52', '5.33', '5.37', '5.40', '6.53', '7.34', '7.35', '7.37', '7.38', '7.39', '7.41', '7.42']\n",
      "Processing /Users/pqh443/Documents/Git_projects/GPRC_peptide_benchmarking/tournament_benchmark/gpcr_tournament/crfr1_tournament/crfr1_tournament.pdb, 116/124\n"
     ]
    },
    {
     "name": "stderr",
     "output_type": "stream",
     "text": [
      "100  731k  100  365k  100  366k   109k   109k  0:00:03  0:00:03 --:--:--  218k\n",
      "  % Total    % Received % Xferd  Average Speed   Time    Time     Time  Current\n",
      "                                 Dload  Upload   Total   Spent    Left  Speed\n",
      "100  464k    0     0  100  464k      0  91827  0:00:05  0:00:05 --:--:-- 94545"
     ]
    },
    {
     "name": "stdout",
     "output_type": "stream",
     "text": [
      "/Users/pqh443/Documents/Git_projects/GPRC_peptide_benchmarking/tournament_benchmark/gpcr_tournament/crfr1_tournament/crfr1_tournament.pdb - GRNs: ['1.24', '1.26', '1.27', '1.28', '1.29', '1.31', '1.32', '1.33', '1.34', '1.35', '1.36', '1.37', '1.39', '1.40', '1.41', '1.43', '1.44', '1.47', '2.64', '2.67', '2.68', '3.33', '3.36', '3.37', '3.40', '4.64', '45.51', '45.52', '5.37', '5.38', '5.39', '5.40', '5.41', '5.43', '5.44', '6.54', '6.55', '6.56', '6.57', '6.58', '7.34', '7.37', '7.38', '7.41', '7.42', '7.45']\n",
      "Processing /Users/pqh443/Documents/Git_projects/GPRC_peptide_benchmarking/tournament_benchmark/gpcr_tournament/agtr1_tournament/agtr1_tournament.pdb, 117/124\n"
     ]
    },
    {
     "name": "stderr",
     "output_type": "stream",
     "text": [
      "100  928k  100  463k  100  464k  87000  87084  0:00:05  0:00:05 --:--:--  115k\n",
      "  % Total    % Received % Xferd  Average Speed   Time    Time     Time  Current\n",
      "                                 Dload  Upload   Total   Spent    Left  Speed\n",
      "100  570k  100  285k  100  285k  68290  68398  0:00:04  0:00:04 --:--:--  133k\n"
     ]
    },
    {
     "name": "stdout",
     "output_type": "stream",
     "text": [
      "/Users/pqh443/Documents/Git_projects/GPRC_peptide_benchmarking/tournament_benchmark/gpcr_tournament/agtr1_tournament/agtr1_tournament.pdb - GRNs: ['1.39', '2.53', '2.60', '2.63', '3.28', '3.29', '3.30', '3.32', '3.33', '3.34', '3.36', '4.61', '4.65', '45.50', '45.51', '45.52', '5.36', '5.43', '6.48', '6.51', '6.55', '6.58', '6.61', '6.62', '7.34', '7.35', '7.37', '7.38', '7.41', '7.42']\n",
      "Processing /Users/pqh443/Documents/Git_projects/GPRC_peptide_benchmarking/tournament_benchmark/gpcr_tournament/ssr5_tournament/ssr5_tournament.pdb, 118/124\n"
     ]
    },
    {
     "name": "stderr",
     "output_type": "stream",
     "text": [
      "  % Total    % Received % Xferd  Average Speed   Time    Time     Time  Current\n",
      "                                 Dload  Upload   Total   Spent    Left  Speed\n",
      "100  426k    0     0  100  426k      0  60294  0:00:07  0:00:07 --:--:--     0"
     ]
    },
    {
     "name": "stdout",
     "output_type": "stream",
     "text": [
      "/Users/pqh443/Documents/Git_projects/GPRC_peptide_benchmarking/tournament_benchmark/gpcr_tournament/ssr5_tournament/ssr5_tournament.pdb - GRNs: ['1.31', '1.39', '2.53', '2.60', '2.63', '2.64', '23.49', '3.29', '3.32', '3.33', '3.36', '3.37', '4.61', '45.50', '45.51', '45.52', '5.32', '5.35', '5.36', '5.37', '5.39', '5.40', '5.43', '5.44', '6.48', '6.51', '6.52', '6.54', '6.55', '6.58', '6.59', '7.27', '7.30', '7.31', '7.32', '7.34', '7.35', '7.38', '7.41', '7.42']\n",
      "Processing /Users/pqh443/Documents/Git_projects/GPRC_peptide_benchmarking/tournament_benchmark/gpcr_tournament/galr2_tournament/galr2_tournament.pdb, 119/124\n"
     ]
    },
    {
     "name": "stderr",
     "output_type": "stream",
     "text": [
      "100  851k  100  425k  100  426k  58075  58136  0:00:07  0:00:07 --:--:--  104k\n",
      "  % Total    % Received % Xferd  Average Speed   Time    Time     Time  Current\n",
      "                                 Dload  Upload   Total   Spent    Left  Speed\n",
      "100  413k    0     0  100  413k      0  66406  0:00:06  0:00:06 --:--:--     0"
     ]
    },
    {
     "name": "stdout",
     "output_type": "stream",
     "text": [
      "/Users/pqh443/Documents/Git_projects/GPRC_peptide_benchmarking/tournament_benchmark/gpcr_tournament/galr2_tournament/galr2_tournament.pdb - GRNs: []\n",
      "Processing /Users/pqh443/Documents/Git_projects/GPRC_peptide_benchmarking/tournament_benchmark/gpcr_tournament/fpr3_tournament/fpr3_tournament.pdb, 120/124\n"
     ]
    },
    {
     "name": "stderr",
     "output_type": "stream",
     "text": [
      "100  826k  100  412k  100  413k  63566  63635  0:00:06  0:00:06 --:--:-- 98631\n",
      "  % Total    % Received % Xferd  Average Speed   Time    Time     Time  Current\n",
      "                                 Dload  Upload   Total   Spent    Left  Speed\n",
      "100  456k    0     0  100  456k      0    97k  0:00:04  0:00:04 --:--:--   97k"
     ]
    },
    {
     "name": "stdout",
     "output_type": "stream",
     "text": [
      "/Users/pqh443/Documents/Git_projects/GPRC_peptide_benchmarking/tournament_benchmark/gpcr_tournament/fpr3_tournament/fpr3_tournament.pdb - GRNs: []\n",
      "Processing /Users/pqh443/Documents/Git_projects/GPRC_peptide_benchmarking/tournament_benchmark/gpcr_tournament/cml2_tournament/cml2_tournament.pdb, 121/124\n"
     ]
    },
    {
     "name": "stderr",
     "output_type": "stream",
     "text": [
      "100  911k  100  455k  100  456k  93687  93779  0:00:04  0:00:04 --:--:--  127k\n",
      "  % Total    % Received % Xferd  Average Speed   Time    Time     Time  Current\n",
      "                                 Dload  Upload   Total   Spent    Left  Speed\n",
      "100  496k    0     0  100  496k      0  78021  0:00:06  0:00:06 --:--:--     0"
     ]
    },
    {
     "name": "stdout",
     "output_type": "stream",
     "text": [
      "/Users/pqh443/Documents/Git_projects/GPRC_peptide_benchmarking/tournament_benchmark/gpcr_tournament/cml2_tournament/cml2_tournament.pdb - GRNs: ['1.28', '1.32', '2.60', '2.63', '4.64', '45.50', '45.51', '45.52', '5.24', '5.26', '5.27', '5.28', '5.29', '5.30', '5.32', '5.36', '6.58', '6.61', '7.27', '7.28', '7.30', '7.31', '7.32', '7.34', '7.35', '7.38']\n",
      "Processing /Users/pqh443/Documents/Git_projects/GPRC_peptide_benchmarking/tournament_benchmark/gpcr_tournament/cx3c1_tournament/cx3c1_tournament.pdb, 122/124\n"
     ]
    },
    {
     "name": "stderr",
     "output_type": "stream",
     "text": [
      "100  991k  100  495k  100  496k  74410  74477  0:00:06  0:00:06 --:--:--  114k\n",
      "  % Total    % Received % Xferd  Average Speed   Time    Time     Time  Current\n",
      "                                 Dload  Upload   Total   Spent    Left  Speed\n",
      "100  698k  100  349k  100  349k  82112  82218  0:00:04  0:00:04 --:--:--  138k\n"
     ]
    },
    {
     "name": "stdout",
     "output_type": "stream",
     "text": [
      "/Users/pqh443/Documents/Git_projects/GPRC_peptide_benchmarking/tournament_benchmark/gpcr_tournament/cx3c1_tournament/cx3c1_tournament.pdb - GRNs: ['1.24', '1.25', '1.26', '1.28', '1.29', '1.31', '1.32', '1.35', '1.39', '2.57', '2.60', '2.61', '2.62', '2.63', '2.64', '2.65', '2.66', '3.29', '3.32', '3.33', '4.61', '4.62', '4.65', '45.50', '45.51', '45.52', '5.32', '5.33', '5.36', '5.39', '5.40', '6.51', '6.54', '6.55', '6.58', '6.59', '6.61', '6.62', '6.64', '7.24', '7.27', '7.31', '7.34', '7.35', '7.38', '7.42']\n",
      "Processing /Users/pqh443/Documents/Git_projects/GPRC_peptide_benchmarking/tournament_benchmark/gpcr_tournament/ccr2_tournament/ccr2_tournament.pdb, 123/124\n"
     ]
    },
    {
     "name": "stderr",
     "output_type": "stream",
     "text": [
      "  % Total    % Received % Xferd  Average Speed   Time    Time     Time  Current\n",
      "                                 Dload  Upload   Total   Spent    Left  Speed\n",
      "100  410k    0     0  100  410k      0  89393  0:00:04  0:00:04 --:--:-- 89387"
     ]
    },
    {
     "name": "stdout",
     "output_type": "stream",
     "text": [
      "/Users/pqh443/Documents/Git_projects/GPRC_peptide_benchmarking/tournament_benchmark/gpcr_tournament/ccr2_tournament/ccr2_tournament.pdb - GRNs: ['1.27', '1.28', '1.31', '1.32', '1.35', '1.39', '2.56', '2.57', '2.60', '2.63', '2.64', '2.65', '2.66', '23.49', '3.25', '3.28', '3.29', '3.30', '3.32', '3.33', '4.61', '4.64', '4.65', '45.50', '45.51', '45.52', '5.32', '5.33', '5.36', '5.39', '5.43', '6.51', '6.55', '6.58', '6.59', '6.61', '6.62', '7.25', '7.26', '7.27', '7.28', '7.31', '7.32', '7.34', '7.35', '7.36', '7.38', '7.39', '7.42']\n",
      "Processing /Users/pqh443/Documents/Git_projects/GPRC_peptide_benchmarking/tournament_benchmark/gpcr_tournament/cxcr5_tournament/cxcr5_tournament.pdb, 124/124\n"
     ]
    },
    {
     "name": "stderr",
     "output_type": "stream",
     "text": [
      "100  820k  100  409k  100  410k  84324  84416  0:00:04  0:00:04 --:--:--  114k\n",
      "  % Total    % Received % Xferd  Average Speed   Time    Time     Time  Current\n",
      "                                 Dload  Upload   Total   Spent    Left  Speed\n",
      "100  665k    0     0  100  665k      0   102k  0:00:06  0:00:06 --:--:--     0"
     ]
    },
    {
     "name": "stdout",
     "output_type": "stream",
     "text": [
      "/Users/pqh443/Documents/Git_projects/GPRC_peptide_benchmarking/tournament_benchmark/gpcr_tournament/cxcr5_tournament/cxcr5_tournament.pdb - GRNs: ['1.31', '1.35', '1.36', '1.39', '2.53', '2.56', '2.57', '2.59', '2.60', '2.61', '2.62', '2.63', '2.64', '2.65', '23.50', '3.24', '3.25', '3.28', '3.29', '3.32', '3.33', '45.50', '45.51', '45.52', '5.36', '5.37', '5.40', '6.51', '6.54', '6.55', '6.58', '6.61', '6.62', '6.63', '6.64', '7.23', '7.24', '7.26', '7.27', '7.28', '7.29', '7.30', '7.31', '7.32', '7.34', '7.35', '7.36', '7.38', '7.42']\n"
     ]
    },
    {
     "name": "stderr",
     "output_type": "stream",
     "text": [
      "100 1331k  100  665k  100  665k  91189  91251  0:00:07  0:00:07 --:--:--  167k\n"
     ]
    }
   ],
   "source": [
    "'''\n",
    "Script to check whether a predicted receptor-ligand complex includes interactions between the ligand and the receptor.\n",
    "The interactions will only focus on the generic residue numbers that are observed in the dataset of stucturally resolved complexes of \n",
    "GPCRs and endogenous peptide ligands or their non-endogenous analogues.\n",
    "'''\n",
    "\n",
    "import subprocess \n",
    "import os\n",
    "from Bio.PDB.NeighborSearch import NeighborSearch\n",
    "import pandas as pd\n",
    "import glob\n",
    "import csv \n",
    "import json\n",
    "\n",
    "def get_chains_from_pdb(pdb_path, chain_to_get, output_path):\n",
    "    \"\"\"\n",
    "    Helper function to get specific chains from a pdb file\n",
    "    Note: requires pdb-tools to be installed using: pip install pdb-tools\n",
    "    \"\"\"\n",
    "    chain_to_get = \",\".join(chain_to_get)\n",
    "\n",
    "    # Command to run on terminal - uses pdb-tools pdb_selchain to extract receptor and peptide chain from PDB file\n",
    "    command = f\"pdb_selchain -{chain_to_get} {pdb_path} > {output_path}\"\n",
    "\n",
    "    # Run command on terminal\n",
    "    os.system(command)\n",
    "\n",
    "    return output_path\n",
    "\n",
    "def apply_generic_numbering(pdb_path, output_path, chain_to_get=\"B\"):\n",
    "    '''\n",
    "    Function to apply generic numbering to a PDB file of a receptor. \n",
    "    '''\n",
    "    # Apply generic numbering to the pdb file\n",
    "    command = f'curl -X POST -F \"pdb_file=@{pdb_path}\" https://gpcrdb.org/services/structure/assign_generic_numbers'\n",
    "    output = subprocess.check_output(command, shell=True)\n",
    "    # Make sure output directory exists\n",
    "    output_dir = os.path.dirname(output_path)\n",
    "    if not os.path.exists(output_dir):\n",
    "        os.makedirs(output_dir)\n",
    "    with open(output_path, 'wb') as f:\n",
    "        f.write(output)\n",
    "\n",
    "    # Compare lines in the input pdb and the output pdb \n",
    "    # and empty b-factor field in the output pdb so that only GRN\n",
    "    # is stored in the b-factor field\n",
    "    with open(pdb_path, 'r') as f:\n",
    "        pdb = f.readlines()\n",
    "        pdb = [line.strip() for line in pdb]\n",
    "        pdb = [line for line in pdb if line.startswith(\"ATOM\")]\n",
    "        pdb = [line for line in pdb if line[21] == chain_to_get]\n",
    "        \n",
    "    with open(output_path, 'r') as f:\n",
    "        output_pdb = f.readlines()\n",
    "        output_pdb = [line.strip() for line in output_pdb]     \n",
    "        output_pdb = [line for line in output_pdb if line.startswith(\"ATOM\")] \n",
    "        output_pdb = [line for line in output_pdb if line[21] == chain_to_get]\n",
    "\n",
    "    # Make a dictionary from residue number to generic residue number\n",
    "    grn_dict = {}\n",
    "    for i in range(len(pdb)):\n",
    "        if pdb[i] != output_pdb[i]:\n",
    "            residue_number = pdb[i][22:26].strip()\n",
    "            generic_number = output_pdb[i][60:66].strip()\n",
    "            grn_dict[residue_number] = generic_number\n",
    "        else:\n",
    "            # Replace the b-factor field with empty space\n",
    "            output_pdb[i] = output_pdb[i][:60] + \"     0\" + output_pdb[i][66:]\n",
    "\n",
    "    # Save the dictionary into a json file\n",
    "    grn_json_path = output_path.replace(\".pdb\", \".json\")\n",
    "    with open(grn_json_path, 'w') as f:\n",
    "        json.dump(grn_dict, f)\n",
    "\n",
    "    # Save the pdb file with generic residue numbers\n",
    "    with open(output_path, 'w') as f:\n",
    "        for line in output_pdb:\n",
    "            f.write(line + \"\\n\")\n",
    "\n",
    "    return output_path\n",
    "\n",
    "def get_grn_positions(grn_pdb_path, receptor_chain):\n",
    "\n",
    "    # Open grn_pdb file\n",
    "    with open(grn_pdb_path, 'r') as f:\n",
    "        grn_pdb = f.readlines()\n",
    "        grn_pdb = [line.strip() for line in grn_pdb]\n",
    "\n",
    "    # Get only CA atoms from the receptor chain\n",
    "    ca_grn_pdb = [line for line in grn_pdb if \"CA\" == line[12:16].strip()]\n",
    "    ca_grn_pdb = [line for line in ca_grn_pdb if line[21] == receptor_chain]\n",
    "\n",
    "    # Make a dictionary with residue numbers as keys and generic residue numbers as values\n",
    "    grn_dict = {}\n",
    "    for grn_position in ca_grn_pdb:\n",
    "        residue_number = grn_position[22:26].strip()\n",
    "        generic_number = grn_position[60:66].strip()\n",
    "        grn_dict[residue_number] = generic_number\n",
    "\n",
    "    return grn_dict\n",
    "\n",
    "def get_atom_list(pdb_path, grn_folder, receptor_chain = \"B\", ligand_chain = \"C\", search_radius = 6.6):\n",
    "\n",
    "    # Open pdb using biopython\n",
    "    from Bio.PDB import PDBParser\n",
    "    parser = PDBParser()\n",
    "    pdb_name = pdb_path.split(\"/\")[-1].split(\".\")[0]\n",
    "    structure = parser.get_structure(pdb_name, pdb_path)\n",
    "\n",
    "    # Save atom objects into two lists: one for the receptor and one for the peptide\n",
    "    atom_list_receptor = []\n",
    "    atom_list_peptide = []\n",
    "    for atom in structure.get_atoms():\n",
    "        chain_id = atom.get_full_id()[2]\n",
    "        if chain_id == receptor_chain:\n",
    "            atom_list_receptor.append(atom)\n",
    "        elif chain_id == ligand_chain:\n",
    "            atom_list_peptide.append(atom)\n",
    "\n",
    "    # Apply generic numbering to the receptor\n",
    "    receptor_name = pdb_name.split(\"___\")[0]\n",
    "    grn_path = os.path.join(grn_folder, receptor_name + \"_grn.pdb\")\n",
    "    grn_json_path = grn_path.replace(\".pdb\", \".json\")\n",
    "    if not os.path.exists(grn_path):\n",
    "        apply_generic_numbering(pdb_path, grn_path)\n",
    "\n",
    "    # Load the generic residue numbers from the json file\n",
    "    with open(grn_json_path, 'r') as f:\n",
    "        generic_residue_numbers = json.load(f)\n",
    "     \n",
    "    # Filter receptor atom list based on generic residue numbers\n",
    "    grn_list_receptor = []\n",
    "    for atom in atom_list_receptor:\n",
    "        # Get residue number of atom\n",
    "        residue_number = str(atom.get_parent().get_id()[1])\n",
    "        if residue_number in generic_residue_numbers:\n",
    "            grn_list_receptor.append(atom)\n",
    "\n",
    "    # Concatenate two lists\n",
    "    grn_list_receptor.extend(atom_list_peptide)\n",
    "\n",
    "    # Get interactions between receptor and peptide\n",
    "    ns = NeighborSearch(grn_list_receptor)\n",
    "    all_neighbors = ns.search_all(search_radius, \"R\")\n",
    "    all_neighbors = [pair for pair in all_neighbors if pair[0].get_full_id()[2] != pair[1].get_full_id()[2]]\n",
    "    all_neighbors = sorted(all_neighbors, key=lambda x: x[0].get_full_id())\n",
    "    \n",
    "    # Return generic residue numbers for interacting receptor positions\n",
    "    grns = []\n",
    "    for pair in all_neighbors:\n",
    "        res_n = pair[0].get_full_id()[-1][1]\n",
    "        grns.append(generic_residue_numbers[str(res_n)])\n",
    "    grns = list(set(grns))\n",
    "    return sorted(grns)\n",
    "    \n",
    "# Path to the folder that contains the generic residue numbers for each receptor\n",
    "grn_folder = f\"{repo_dir}/tournament_benchmark/grn_pdbs\"\n",
    "\n",
    "# List all pdbs in pdb_directory and its subdirectories\n",
    "pdb_directory = f\"{repo_dir}/tournament_benchmark/gpcr_tournament\"\n",
    "\n",
    "output_csv = f\"{repo_dir}/tournament_benchmark/interacting_grns.csv\"\n",
    "\n",
    "# Process each PDB file and write results to the CSV file line by line\n",
    "with open(output_csv, \"w\", newline='') as csvfile:\n",
    "    csv_writer = csv.writer(csvfile)\n",
    "    csv_writer.writerow([\"pdb\", \"interacting_grns\"])  # Write header\n",
    "    c = 0\n",
    "    for pdb in pdb_files:\n",
    "        c+=1\n",
    "        if os.path.exists(pdb):\n",
    "            print(f\"Processing {pdb}, {c}/{len(pdb_files)}\", flush = True)\n",
    "            grns = get_atom_list(pdb, grn_folder) \n",
    "            pdb_name = os.path.basename(pdb).split(\".\")[0]\n",
    "            print(f\"{pdb} - GRNs: {grns}\")\n",
    "            csv_writer.writerow([pdb_name, grns])\n"
   ]
  }
 ],
 "metadata": {
  "kernelspec": {
   "display_name": "Python 3",
   "language": "python",
   "name": "python3"
  },
  "language_info": {
   "codemirror_mode": {
    "name": "ipython",
    "version": 3
   },
   "file_extension": ".py",
   "mimetype": "text/x-python",
   "name": "python",
   "nbconvert_exporter": "python",
   "pygments_lexer": "ipython3",
   "version": "3.8.17"
  }
 },
 "nbformat": 4,
 "nbformat_minor": 2
}
